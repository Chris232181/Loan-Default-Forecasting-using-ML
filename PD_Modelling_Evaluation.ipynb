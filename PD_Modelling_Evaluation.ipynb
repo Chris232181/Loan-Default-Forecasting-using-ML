{
 "cells": [
  {
   "cell_type": "code",
   "execution_count": 1,
   "metadata": {},
   "outputs": [],
   "source": [
    "# import major math & visual libraries needed for the project\n",
    "import matplotlib.pyplot as plt\n",
    "import numpy as np\n",
    "import pandas as pd\n",
    "from pathlib import Path\n",
    "from collections import Counter"
   ]
  },
  {
   "cell_type": "code",
   "execution_count": 2,
   "metadata": {},
   "outputs": [],
   "source": [
    "# import all potential Machine Learning libraries needed for the project\n",
    "from sklearn.linear_model import LogisticRegression\n",
    "from sklearn.metrics import balanced_accuracy_score\n",
    "from sklearn.metrics import roc_curve\n",
    "from sklearn.metrics import roc_auc_score\n",
    "from sklearn.metrics import precision_recall_fscore_support\n",
    "from sklearn.metrics import confusion_matrix\n",
    "from imblearn.metrics import classification_report_imbalanced\n",
    "from sklearn.metrics import classification_report\n",
    "from sklearn.metrics import accuracy_score, classification_report\n",
    "from sklearn.preprocessing import LabelEncoder, StandardScaler\n",
    "from imblearn.ensemble import BalancedRandomForestClassifier\n",
    "from sklearn.ensemble import AdaBoostClassifier\n",
    "from imblearn.ensemble import EasyEnsembleClassifier\n",
    "from xgboost import XGBClassifier"
   ]
  },
  {
   "cell_type": "code",
   "execution_count": 3,
   "metadata": {},
   "outputs": [
    {
     "data": {
      "text/html": [
       "<div>\n",
       "<style scoped>\n",
       "    .dataframe tbody tr th:only-of-type {\n",
       "        vertical-align: middle;\n",
       "    }\n",
       "\n",
       "    .dataframe tbody tr th {\n",
       "        vertical-align: top;\n",
       "    }\n",
       "\n",
       "    .dataframe thead th {\n",
       "        text-align: right;\n",
       "    }\n",
       "</style>\n",
       "<table border=\"1\" class=\"dataframe\">\n",
       "  <thead>\n",
       "    <tr style=\"text-align: right;\">\n",
       "      <th></th>\n",
       "      <th>loan_purpose</th>\n",
       "      <th>borrower_employment_length</th>\n",
       "      <th>borrower_age</th>\n",
       "      <th>borrower_home_ownership</th>\n",
       "      <th>borrower_income</th>\n",
       "      <th>loan_rating</th>\n",
       "      <th>loan_amount</th>\n",
       "      <th>loan_rate</th>\n",
       "      <th>loan_status</th>\n",
       "      <th>loan_to_income_percent</th>\n",
       "      <th>cb_person_default_on_file</th>\n",
       "      <th>cb_person_cred_hist_length</th>\n",
       "      <th>rem_term</th>\n",
       "    </tr>\n",
       "    <tr>\n",
       "      <th>ID</th>\n",
       "      <th></th>\n",
       "      <th></th>\n",
       "      <th></th>\n",
       "      <th></th>\n",
       "      <th></th>\n",
       "      <th></th>\n",
       "      <th></th>\n",
       "      <th></th>\n",
       "      <th></th>\n",
       "      <th></th>\n",
       "      <th></th>\n",
       "      <th></th>\n",
       "      <th></th>\n",
       "    </tr>\n",
       "  </thead>\n",
       "  <tbody>\n",
       "    <tr>\n",
       "      <th>8873</th>\n",
       "      <td>EDUCATION</td>\n",
       "      <td>5.0</td>\n",
       "      <td>26</td>\n",
       "      <td>RENT</td>\n",
       "      <td>45000</td>\n",
       "      <td>D</td>\n",
       "      <td>8000</td>\n",
       "      <td>18.25</td>\n",
       "      <td>0</td>\n",
       "      <td>0.18</td>\n",
       "      <td>N</td>\n",
       "      <td>2</td>\n",
       "      <td>36</td>\n",
       "    </tr>\n",
       "    <tr>\n",
       "      <th>13934</th>\n",
       "      <td>EDUCATION</td>\n",
       "      <td>0.0</td>\n",
       "      <td>21</td>\n",
       "      <td>RENT</td>\n",
       "      <td>55260</td>\n",
       "      <td>A</td>\n",
       "      <td>14000</td>\n",
       "      <td>6.54</td>\n",
       "      <td>0</td>\n",
       "      <td>0.25</td>\n",
       "      <td>N</td>\n",
       "      <td>2</td>\n",
       "      <td>60</td>\n",
       "    </tr>\n",
       "    <tr>\n",
       "      <th>28110</th>\n",
       "      <td>DEBTCONSOLIDATION</td>\n",
       "      <td>12.0</td>\n",
       "      <td>28</td>\n",
       "      <td>MORTGAGE</td>\n",
       "      <td>82500</td>\n",
       "      <td>A</td>\n",
       "      <td>11000</td>\n",
       "      <td>7.49</td>\n",
       "      <td>0</td>\n",
       "      <td>0.13</td>\n",
       "      <td>N</td>\n",
       "      <td>7</td>\n",
       "      <td>36</td>\n",
       "    </tr>\n",
       "    <tr>\n",
       "      <th>16362</th>\n",
       "      <td>EDUCATION</td>\n",
       "      <td>4.0</td>\n",
       "      <td>23</td>\n",
       "      <td>MORTGAGE</td>\n",
       "      <td>65000</td>\n",
       "      <td>D</td>\n",
       "      <td>13600</td>\n",
       "      <td>15.62</td>\n",
       "      <td>0</td>\n",
       "      <td>0.21</td>\n",
       "      <td>N</td>\n",
       "      <td>3</td>\n",
       "      <td>36</td>\n",
       "    </tr>\n",
       "    <tr>\n",
       "      <th>10282</th>\n",
       "      <td>MEDICAL</td>\n",
       "      <td>5.0</td>\n",
       "      <td>26</td>\n",
       "      <td>MORTGAGE</td>\n",
       "      <td>66000</td>\n",
       "      <td>B</td>\n",
       "      <td>15000</td>\n",
       "      <td>9.88</td>\n",
       "      <td>0</td>\n",
       "      <td>0.23</td>\n",
       "      <td>N</td>\n",
       "      <td>4</td>\n",
       "      <td>36</td>\n",
       "    </tr>\n",
       "  </tbody>\n",
       "</table>\n",
       "</div>"
      ],
      "text/plain": [
       "            loan_purpose  borrower_employment_length  borrower_age  \\\n",
       "ID                                                                   \n",
       "8873           EDUCATION                         5.0            26   \n",
       "13934          EDUCATION                         0.0            21   \n",
       "28110  DEBTCONSOLIDATION                        12.0            28   \n",
       "16362          EDUCATION                         4.0            23   \n",
       "10282            MEDICAL                         5.0            26   \n",
       "\n",
       "      borrower_home_ownership  borrower_income loan_rating  loan_amount  \\\n",
       "ID                                                                        \n",
       "8873                     RENT            45000           D         8000   \n",
       "13934                    RENT            55260           A        14000   \n",
       "28110                MORTGAGE            82500           A        11000   \n",
       "16362                MORTGAGE            65000           D        13600   \n",
       "10282                MORTGAGE            66000           B        15000   \n",
       "\n",
       "       loan_rate  loan_status  loan_to_income_percent  \\\n",
       "ID                                                      \n",
       "8873       18.25            0                    0.18   \n",
       "13934       6.54            0                    0.25   \n",
       "28110       7.49            0                    0.13   \n",
       "16362      15.62            0                    0.21   \n",
       "10282       9.88            0                    0.23   \n",
       "\n",
       "      cb_person_default_on_file  cb_person_cred_hist_length  rem_term  \n",
       "ID                                                                     \n",
       "8873                          N                           2        36  \n",
       "13934                         N                           2        60  \n",
       "28110                         N                           7        36  \n",
       "16362                         N                           3        36  \n",
       "10282                         N                           4        36  "
      ]
     },
     "execution_count": 3,
     "metadata": {},
     "output_type": "execute_result"
    }
   ],
   "source": [
    "# Take sample of data\n",
    "csv_path = Path(\"loantape_raw.csv\")\n",
    "csv_data = pd.read_csv(csv_path, index_col=\"ID\")\n",
    "csv_data.sample(5)"
   ]
  },
  {
   "cell_type": "code",
   "execution_count": 4,
   "metadata": {},
   "outputs": [
    {
     "data": {
      "text/plain": [
       "loan_purpose                   object\n",
       "borrower_employment_length    float64\n",
       "borrower_age                    int64\n",
       "borrower_home_ownership        object\n",
       "borrower_income                 int64\n",
       "loan_rating                    object\n",
       "loan_amount                     int64\n",
       "loan_rate                     float64\n",
       "loan_status                     int64\n",
       "loan_to_income_percent        float64\n",
       "cb_person_default_on_file      object\n",
       "cb_person_cred_hist_length      int64\n",
       "rem_term                        int64\n",
       "dtype: object"
      ]
     },
     "execution_count": 4,
     "metadata": {},
     "output_type": "execute_result"
    }
   ],
   "source": [
    "# Identify Datatypes in DataFrame \n",
    "csv_data.dtypes"
   ]
  },
  {
   "cell_type": "code",
   "execution_count": 5,
   "metadata": {},
   "outputs": [
    {
     "data": {
      "text/plain": [
       "loan_purpose                  32581\n",
       "borrower_employment_length    31686\n",
       "borrower_age                  32581\n",
       "borrower_home_ownership       32581\n",
       "borrower_income               32581\n",
       "loan_rating                   32581\n",
       "loan_amount                   32581\n",
       "loan_rate                     32581\n",
       "loan_status                   32581\n",
       "loan_to_income_percent        32581\n",
       "cb_person_default_on_file     32581\n",
       "cb_person_cred_hist_length    32581\n",
       "rem_term                      32581\n",
       "dtype: int64"
      ]
     },
     "execution_count": 5,
     "metadata": {},
     "output_type": "execute_result"
    }
   ],
   "source": [
    "# Assess data quality by identifying the number of rows\n",
    "csv_data.count()"
   ]
  },
  {
   "cell_type": "code",
   "execution_count": 6,
   "metadata": {},
   "outputs": [
    {
     "data": {
      "text/plain": [
       "loan_purpose                  0.000\n",
       "borrower_employment_length    2.747\n",
       "borrower_age                  0.000\n",
       "borrower_home_ownership       0.000\n",
       "borrower_income               0.000\n",
       "loan_rating                   0.000\n",
       "loan_amount                   0.000\n",
       "loan_rate                     0.000\n",
       "loan_status                   0.000\n",
       "loan_to_income_percent        0.000\n",
       "cb_person_default_on_file     0.000\n",
       "cb_person_cred_hist_length    0.000\n",
       "rem_term                      0.000\n",
       "dtype: float64"
      ]
     },
     "execution_count": 6,
     "metadata": {},
     "output_type": "execute_result"
    }
   ],
   "source": [
    "# Determining percentage of nulls\n",
    "csv_data.isnull().mean() * 100"
   ]
  },
  {
   "cell_type": "code",
   "execution_count": 7,
   "metadata": {},
   "outputs": [
    {
     "data": {
      "text/html": [
       "<div>\n",
       "<style scoped>\n",
       "    .dataframe tbody tr th:only-of-type {\n",
       "        vertical-align: middle;\n",
       "    }\n",
       "\n",
       "    .dataframe tbody tr th {\n",
       "        vertical-align: top;\n",
       "    }\n",
       "\n",
       "    .dataframe thead th {\n",
       "        text-align: right;\n",
       "    }\n",
       "</style>\n",
       "<table border=\"1\" class=\"dataframe\">\n",
       "  <thead>\n",
       "    <tr style=\"text-align: right;\">\n",
       "      <th></th>\n",
       "      <th>loan_purpose</th>\n",
       "      <th>borrower_employment_length</th>\n",
       "      <th>borrower_age</th>\n",
       "      <th>borrower_home_ownership</th>\n",
       "      <th>borrower_income</th>\n",
       "      <th>loan_rating</th>\n",
       "      <th>loan_amount</th>\n",
       "      <th>loan_rate</th>\n",
       "      <th>loan_status</th>\n",
       "      <th>loan_to_income_percent</th>\n",
       "      <th>cb_person_default_on_file</th>\n",
       "      <th>cb_person_cred_hist_length</th>\n",
       "      <th>rem_term</th>\n",
       "    </tr>\n",
       "    <tr>\n",
       "      <th>ID</th>\n",
       "      <th></th>\n",
       "      <th></th>\n",
       "      <th></th>\n",
       "      <th></th>\n",
       "      <th></th>\n",
       "      <th></th>\n",
       "      <th></th>\n",
       "      <th></th>\n",
       "      <th></th>\n",
       "      <th></th>\n",
       "      <th></th>\n",
       "      <th></th>\n",
       "      <th></th>\n",
       "    </tr>\n",
       "  </thead>\n",
       "  <tbody>\n",
       "    <tr>\n",
       "      <th>1</th>\n",
       "      <td>PERSONAL</td>\n",
       "      <td>123.0</td>\n",
       "      <td>22</td>\n",
       "      <td>RENT</td>\n",
       "      <td>59000</td>\n",
       "      <td>D</td>\n",
       "      <td>35000</td>\n",
       "      <td>16.02</td>\n",
       "      <td>1</td>\n",
       "      <td>0.59</td>\n",
       "      <td>Y</td>\n",
       "      <td>3</td>\n",
       "      <td>60</td>\n",
       "    </tr>\n",
       "    <tr>\n",
       "      <th>2</th>\n",
       "      <td>EDUCATION</td>\n",
       "      <td>5.0</td>\n",
       "      <td>21</td>\n",
       "      <td>OWN</td>\n",
       "      <td>9600</td>\n",
       "      <td>B</td>\n",
       "      <td>1000</td>\n",
       "      <td>11.14</td>\n",
       "      <td>0</td>\n",
       "      <td>0.10</td>\n",
       "      <td>N</td>\n",
       "      <td>2</td>\n",
       "      <td>60</td>\n",
       "    </tr>\n",
       "    <tr>\n",
       "      <th>3</th>\n",
       "      <td>MEDICAL</td>\n",
       "      <td>1.0</td>\n",
       "      <td>25</td>\n",
       "      <td>MORTGAGE</td>\n",
       "      <td>9600</td>\n",
       "      <td>C</td>\n",
       "      <td>5500</td>\n",
       "      <td>12.87</td>\n",
       "      <td>1</td>\n",
       "      <td>0.57</td>\n",
       "      <td>N</td>\n",
       "      <td>3</td>\n",
       "      <td>36</td>\n",
       "    </tr>\n",
       "    <tr>\n",
       "      <th>4</th>\n",
       "      <td>MEDICAL</td>\n",
       "      <td>4.0</td>\n",
       "      <td>23</td>\n",
       "      <td>RENT</td>\n",
       "      <td>65500</td>\n",
       "      <td>C</td>\n",
       "      <td>35000</td>\n",
       "      <td>15.23</td>\n",
       "      <td>1</td>\n",
       "      <td>0.53</td>\n",
       "      <td>N</td>\n",
       "      <td>2</td>\n",
       "      <td>36</td>\n",
       "    </tr>\n",
       "    <tr>\n",
       "      <th>5</th>\n",
       "      <td>MEDICAL</td>\n",
       "      <td>8.0</td>\n",
       "      <td>24</td>\n",
       "      <td>RENT</td>\n",
       "      <td>54400</td>\n",
       "      <td>C</td>\n",
       "      <td>35000</td>\n",
       "      <td>14.27</td>\n",
       "      <td>1</td>\n",
       "      <td>0.55</td>\n",
       "      <td>Y</td>\n",
       "      <td>4</td>\n",
       "      <td>60</td>\n",
       "    </tr>\n",
       "  </tbody>\n",
       "</table>\n",
       "</div>"
      ],
      "text/plain": [
       "   loan_purpose  borrower_employment_length  borrower_age  \\\n",
       "ID                                                          \n",
       "1      PERSONAL                       123.0            22   \n",
       "2     EDUCATION                         5.0            21   \n",
       "3       MEDICAL                         1.0            25   \n",
       "4       MEDICAL                         4.0            23   \n",
       "5       MEDICAL                         8.0            24   \n",
       "\n",
       "   borrower_home_ownership  borrower_income loan_rating  loan_amount  \\\n",
       "ID                                                                     \n",
       "1                     RENT            59000           D        35000   \n",
       "2                      OWN             9600           B         1000   \n",
       "3                 MORTGAGE             9600           C         5500   \n",
       "4                     RENT            65500           C        35000   \n",
       "5                     RENT            54400           C        35000   \n",
       "\n",
       "    loan_rate  loan_status  loan_to_income_percent cb_person_default_on_file  \\\n",
       "ID                                                                             \n",
       "1       16.02            1                    0.59                         Y   \n",
       "2       11.14            0                    0.10                         N   \n",
       "3       12.87            1                    0.57                         N   \n",
       "4       15.23            1                    0.53                         N   \n",
       "5       14.27            1                    0.55                         Y   \n",
       "\n",
       "    cb_person_cred_hist_length  rem_term  \n",
       "ID                                        \n",
       "1                            3        60  \n",
       "2                            2        60  \n",
       "3                            3        36  \n",
       "4                            2        36  \n",
       "5                            4        60  "
      ]
     },
     "execution_count": 7,
     "metadata": {},
     "output_type": "execute_result"
    }
   ],
   "source": [
    "# dropnas\n",
    "loandata_clean=csv_data.dropna()\n",
    "loandata_clean.head()"
   ]
  },
  {
   "cell_type": "code",
   "execution_count": 8,
   "metadata": {},
   "outputs": [
    {
     "data": {
      "text/plain": [
       "loan_purpose                  0.0\n",
       "borrower_employment_length    0.0\n",
       "borrower_age                  0.0\n",
       "borrower_home_ownership       0.0\n",
       "borrower_income               0.0\n",
       "loan_rating                   0.0\n",
       "loan_amount                   0.0\n",
       "loan_rate                     0.0\n",
       "loan_status                   0.0\n",
       "loan_to_income_percent        0.0\n",
       "cb_person_default_on_file     0.0\n",
       "cb_person_cred_hist_length    0.0\n",
       "rem_term                      0.0\n",
       "dtype: float64"
      ]
     },
     "execution_count": 8,
     "metadata": {},
     "output_type": "execute_result"
    }
   ],
   "source": [
    "# Determining percentage of nulls, again\n",
    "loandata_clean.isnull().mean() * 100"
   ]
  },
  {
   "cell_type": "code",
   "execution_count": 9,
   "metadata": {},
   "outputs": [
    {
     "data": {
      "text/plain": [
       "loan_purpose                   object\n",
       "borrower_employment_length    float64\n",
       "borrower_age                    int64\n",
       "borrower_home_ownership        object\n",
       "borrower_income                 int64\n",
       "loan_rating                    object\n",
       "loan_amount                     int64\n",
       "loan_rate                     float64\n",
       "loan_status                     int64\n",
       "loan_to_income_percent        float64\n",
       "cb_person_default_on_file      object\n",
       "cb_person_cred_hist_length      int64\n",
       "rem_term                        int64\n",
       "dtype: object"
      ]
     },
     "execution_count": 9,
     "metadata": {},
     "output_type": "execute_result"
    }
   ],
   "source": [
    "loandata_clean.dtypes"
   ]
  },
  {
   "cell_type": "code",
   "execution_count": 10,
   "metadata": {},
   "outputs": [],
   "source": [
    "# separate numeric & non-numeric columns\n",
    "cred_num = loandata_clean.select_dtypes(exclude=['object'])\n",
    "cred_nonnum = loandata_clean.select_dtypes(include=['object'])"
   ]
  },
  {
   "cell_type": "code",
   "execution_count": 11,
   "metadata": {},
   "outputs": [],
   "source": [
    "# create dummy variables for non-numeric dtypes\n",
    "cred_nonnum_dum = pd.get_dummies(cred_nonnum)"
   ]
  },
  {
   "cell_type": "code",
   "execution_count": 12,
   "metadata": {},
   "outputs": [
    {
     "data": {
      "text/html": [
       "<div>\n",
       "<style scoped>\n",
       "    .dataframe tbody tr th:only-of-type {\n",
       "        vertical-align: middle;\n",
       "    }\n",
       "\n",
       "    .dataframe tbody tr th {\n",
       "        vertical-align: top;\n",
       "    }\n",
       "\n",
       "    .dataframe thead th {\n",
       "        text-align: right;\n",
       "    }\n",
       "</style>\n",
       "<table border=\"1\" class=\"dataframe\">\n",
       "  <thead>\n",
       "    <tr style=\"text-align: right;\">\n",
       "      <th></th>\n",
       "      <th>borrower_employment_length</th>\n",
       "      <th>borrower_age</th>\n",
       "      <th>borrower_income</th>\n",
       "      <th>loan_amount</th>\n",
       "      <th>loan_rate</th>\n",
       "      <th>loan_status</th>\n",
       "      <th>loan_to_income_percent</th>\n",
       "      <th>cb_person_cred_hist_length</th>\n",
       "      <th>rem_term</th>\n",
       "      <th>loan_purpose_DEBTCONSOLIDATION</th>\n",
       "      <th>...</th>\n",
       "      <th>borrower_home_ownership_RENT</th>\n",
       "      <th>loan_rating_A</th>\n",
       "      <th>loan_rating_B</th>\n",
       "      <th>loan_rating_C</th>\n",
       "      <th>loan_rating_D</th>\n",
       "      <th>loan_rating_E</th>\n",
       "      <th>loan_rating_F</th>\n",
       "      <th>loan_rating_G</th>\n",
       "      <th>cb_person_default_on_file_N</th>\n",
       "      <th>cb_person_default_on_file_Y</th>\n",
       "    </tr>\n",
       "    <tr>\n",
       "      <th>ID</th>\n",
       "      <th></th>\n",
       "      <th></th>\n",
       "      <th></th>\n",
       "      <th></th>\n",
       "      <th></th>\n",
       "      <th></th>\n",
       "      <th></th>\n",
       "      <th></th>\n",
       "      <th></th>\n",
       "      <th></th>\n",
       "      <th></th>\n",
       "      <th></th>\n",
       "      <th></th>\n",
       "      <th></th>\n",
       "      <th></th>\n",
       "      <th></th>\n",
       "      <th></th>\n",
       "      <th></th>\n",
       "      <th></th>\n",
       "      <th></th>\n",
       "      <th></th>\n",
       "    </tr>\n",
       "  </thead>\n",
       "  <tbody>\n",
       "    <tr>\n",
       "      <th>1</th>\n",
       "      <td>123.0</td>\n",
       "      <td>22</td>\n",
       "      <td>59000</td>\n",
       "      <td>35000</td>\n",
       "      <td>16.02</td>\n",
       "      <td>1</td>\n",
       "      <td>0.59</td>\n",
       "      <td>3</td>\n",
       "      <td>60</td>\n",
       "      <td>0</td>\n",
       "      <td>...</td>\n",
       "      <td>1</td>\n",
       "      <td>0</td>\n",
       "      <td>0</td>\n",
       "      <td>0</td>\n",
       "      <td>1</td>\n",
       "      <td>0</td>\n",
       "      <td>0</td>\n",
       "      <td>0</td>\n",
       "      <td>0</td>\n",
       "      <td>1</td>\n",
       "    </tr>\n",
       "    <tr>\n",
       "      <th>2</th>\n",
       "      <td>5.0</td>\n",
       "      <td>21</td>\n",
       "      <td>9600</td>\n",
       "      <td>1000</td>\n",
       "      <td>11.14</td>\n",
       "      <td>0</td>\n",
       "      <td>0.10</td>\n",
       "      <td>2</td>\n",
       "      <td>60</td>\n",
       "      <td>0</td>\n",
       "      <td>...</td>\n",
       "      <td>0</td>\n",
       "      <td>0</td>\n",
       "      <td>1</td>\n",
       "      <td>0</td>\n",
       "      <td>0</td>\n",
       "      <td>0</td>\n",
       "      <td>0</td>\n",
       "      <td>0</td>\n",
       "      <td>1</td>\n",
       "      <td>0</td>\n",
       "    </tr>\n",
       "    <tr>\n",
       "      <th>3</th>\n",
       "      <td>1.0</td>\n",
       "      <td>25</td>\n",
       "      <td>9600</td>\n",
       "      <td>5500</td>\n",
       "      <td>12.87</td>\n",
       "      <td>1</td>\n",
       "      <td>0.57</td>\n",
       "      <td>3</td>\n",
       "      <td>36</td>\n",
       "      <td>0</td>\n",
       "      <td>...</td>\n",
       "      <td>0</td>\n",
       "      <td>0</td>\n",
       "      <td>0</td>\n",
       "      <td>1</td>\n",
       "      <td>0</td>\n",
       "      <td>0</td>\n",
       "      <td>0</td>\n",
       "      <td>0</td>\n",
       "      <td>1</td>\n",
       "      <td>0</td>\n",
       "    </tr>\n",
       "    <tr>\n",
       "      <th>4</th>\n",
       "      <td>4.0</td>\n",
       "      <td>23</td>\n",
       "      <td>65500</td>\n",
       "      <td>35000</td>\n",
       "      <td>15.23</td>\n",
       "      <td>1</td>\n",
       "      <td>0.53</td>\n",
       "      <td>2</td>\n",
       "      <td>36</td>\n",
       "      <td>0</td>\n",
       "      <td>...</td>\n",
       "      <td>1</td>\n",
       "      <td>0</td>\n",
       "      <td>0</td>\n",
       "      <td>1</td>\n",
       "      <td>0</td>\n",
       "      <td>0</td>\n",
       "      <td>0</td>\n",
       "      <td>0</td>\n",
       "      <td>1</td>\n",
       "      <td>0</td>\n",
       "    </tr>\n",
       "    <tr>\n",
       "      <th>5</th>\n",
       "      <td>8.0</td>\n",
       "      <td>24</td>\n",
       "      <td>54400</td>\n",
       "      <td>35000</td>\n",
       "      <td>14.27</td>\n",
       "      <td>1</td>\n",
       "      <td>0.55</td>\n",
       "      <td>4</td>\n",
       "      <td>60</td>\n",
       "      <td>0</td>\n",
       "      <td>...</td>\n",
       "      <td>1</td>\n",
       "      <td>0</td>\n",
       "      <td>0</td>\n",
       "      <td>1</td>\n",
       "      <td>0</td>\n",
       "      <td>0</td>\n",
       "      <td>0</td>\n",
       "      <td>0</td>\n",
       "      <td>0</td>\n",
       "      <td>1</td>\n",
       "    </tr>\n",
       "  </tbody>\n",
       "</table>\n",
       "<p>5 rows × 28 columns</p>\n",
       "</div>"
      ],
      "text/plain": [
       "    borrower_employment_length  borrower_age  borrower_income  loan_amount  \\\n",
       "ID                                                                           \n",
       "1                        123.0            22            59000        35000   \n",
       "2                          5.0            21             9600         1000   \n",
       "3                          1.0            25             9600         5500   \n",
       "4                          4.0            23            65500        35000   \n",
       "5                          8.0            24            54400        35000   \n",
       "\n",
       "    loan_rate  loan_status  loan_to_income_percent  \\\n",
       "ID                                                   \n",
       "1       16.02            1                    0.59   \n",
       "2       11.14            0                    0.10   \n",
       "3       12.87            1                    0.57   \n",
       "4       15.23            1                    0.53   \n",
       "5       14.27            1                    0.55   \n",
       "\n",
       "    cb_person_cred_hist_length  rem_term  loan_purpose_DEBTCONSOLIDATION  ...  \\\n",
       "ID                                                                        ...   \n",
       "1                            3        60                               0  ...   \n",
       "2                            2        60                               0  ...   \n",
       "3                            3        36                               0  ...   \n",
       "4                            2        36                               0  ...   \n",
       "5                            4        60                               0  ...   \n",
       "\n",
       "    borrower_home_ownership_RENT  loan_rating_A  loan_rating_B  loan_rating_C  \\\n",
       "ID                                                                              \n",
       "1                              1              0              0              0   \n",
       "2                              0              0              1              0   \n",
       "3                              0              0              0              1   \n",
       "4                              1              0              0              1   \n",
       "5                              1              0              0              1   \n",
       "\n",
       "    loan_rating_D  loan_rating_E  loan_rating_F  loan_rating_G  \\\n",
       "ID                                                               \n",
       "1               1              0              0              0   \n",
       "2               0              0              0              0   \n",
       "3               0              0              0              0   \n",
       "4               0              0              0              0   \n",
       "5               0              0              0              0   \n",
       "\n",
       "    cb_person_default_on_file_N  cb_person_default_on_file_Y  \n",
       "ID                                                            \n",
       "1                             0                            1  \n",
       "2                             1                            0  \n",
       "3                             1                            0  \n",
       "4                             1                            0  \n",
       "5                             0                            1  \n",
       "\n",
       "[5 rows x 28 columns]"
      ]
     },
     "execution_count": 12,
     "metadata": {},
     "output_type": "execute_result"
    }
   ],
   "source": [
    "#concat dataframes\n",
    "loan_data = pd.concat([cred_num,cred_nonnum_dum],axis=1)\n",
    "loan_data.head()"
   ]
  },
  {
   "cell_type": "code",
   "execution_count": 13,
   "metadata": {},
   "outputs": [],
   "source": [
    "# Prepare data for ML process\n",
    "# Split the Data into Training and Testing\n",
    "# Create our features\n",
    "X = loan_data.drop(columns=\"loan_status\")\n",
    "\n",
    "# Create our target\n",
    "y = loan_data[\"loan_status\"]"
   ]
  },
  {
   "cell_type": "code",
   "execution_count": 14,
   "metadata": {},
   "outputs": [
    {
     "data": {
      "text/html": [
       "<div>\n",
       "<style scoped>\n",
       "    .dataframe tbody tr th:only-of-type {\n",
       "        vertical-align: middle;\n",
       "    }\n",
       "\n",
       "    .dataframe tbody tr th {\n",
       "        vertical-align: top;\n",
       "    }\n",
       "\n",
       "    .dataframe thead th {\n",
       "        text-align: right;\n",
       "    }\n",
       "</style>\n",
       "<table border=\"1\" class=\"dataframe\">\n",
       "  <thead>\n",
       "    <tr style=\"text-align: right;\">\n",
       "      <th></th>\n",
       "      <th>borrower_employment_length</th>\n",
       "      <th>borrower_age</th>\n",
       "      <th>borrower_income</th>\n",
       "      <th>loan_amount</th>\n",
       "      <th>loan_rate</th>\n",
       "      <th>loan_to_income_percent</th>\n",
       "      <th>cb_person_cred_hist_length</th>\n",
       "      <th>rem_term</th>\n",
       "      <th>loan_purpose_DEBTCONSOLIDATION</th>\n",
       "      <th>loan_purpose_EDUCATION</th>\n",
       "      <th>...</th>\n",
       "      <th>borrower_home_ownership_RENT</th>\n",
       "      <th>loan_rating_A</th>\n",
       "      <th>loan_rating_B</th>\n",
       "      <th>loan_rating_C</th>\n",
       "      <th>loan_rating_D</th>\n",
       "      <th>loan_rating_E</th>\n",
       "      <th>loan_rating_F</th>\n",
       "      <th>loan_rating_G</th>\n",
       "      <th>cb_person_default_on_file_N</th>\n",
       "      <th>cb_person_default_on_file_Y</th>\n",
       "    </tr>\n",
       "  </thead>\n",
       "  <tbody>\n",
       "    <tr>\n",
       "      <th>count</th>\n",
       "      <td>31686.000000</td>\n",
       "      <td>31686.000000</td>\n",
       "      <td>3.168600e+04</td>\n",
       "      <td>31686.000000</td>\n",
       "      <td>31686.000000</td>\n",
       "      <td>31686.000000</td>\n",
       "      <td>31686.000000</td>\n",
       "      <td>31686.000000</td>\n",
       "      <td>31686.000000</td>\n",
       "      <td>31686.000000</td>\n",
       "      <td>...</td>\n",
       "      <td>31686.000000</td>\n",
       "      <td>31686.000000</td>\n",
       "      <td>31686.000000</td>\n",
       "      <td>31686.000000</td>\n",
       "      <td>31686.000000</td>\n",
       "      <td>31686.000000</td>\n",
       "      <td>31686.000000</td>\n",
       "      <td>31686.000000</td>\n",
       "      <td>31686.000000</td>\n",
       "      <td>31686.000000</td>\n",
       "    </tr>\n",
       "    <tr>\n",
       "      <th>mean</th>\n",
       "      <td>4.789686</td>\n",
       "      <td>27.747302</td>\n",
       "      <td>6.669188e+04</td>\n",
       "      <td>9661.337815</td>\n",
       "      <td>11.074397</td>\n",
       "      <td>0.169612</td>\n",
       "      <td>5.809316</td>\n",
       "      <td>43.905321</td>\n",
       "      <td>0.159818</td>\n",
       "      <td>0.198510</td>\n",
       "      <td>...</td>\n",
       "      <td>0.507353</td>\n",
       "      <td>0.327305</td>\n",
       "      <td>0.321467</td>\n",
       "      <td>0.199489</td>\n",
       "      <td>0.112226</td>\n",
       "      <td>0.030045</td>\n",
       "      <td>0.007448</td>\n",
       "      <td>0.002020</td>\n",
       "      <td>0.822351</td>\n",
       "      <td>0.177649</td>\n",
       "    </tr>\n",
       "    <tr>\n",
       "      <th>std</th>\n",
       "      <td>4.142630</td>\n",
       "      <td>6.360283</td>\n",
       "      <td>6.242729e+04</td>\n",
       "      <td>6336.226458</td>\n",
       "      <td>3.232059</td>\n",
       "      <td>0.106297</td>\n",
       "      <td>4.060867</td>\n",
       "      <td>11.279965</td>\n",
       "      <td>0.366443</td>\n",
       "      <td>0.398885</td>\n",
       "      <td>...</td>\n",
       "      <td>0.499954</td>\n",
       "      <td>0.469237</td>\n",
       "      <td>0.467047</td>\n",
       "      <td>0.399622</td>\n",
       "      <td>0.315650</td>\n",
       "      <td>0.170713</td>\n",
       "      <td>0.085982</td>\n",
       "      <td>0.044898</td>\n",
       "      <td>0.382223</td>\n",
       "      <td>0.382223</td>\n",
       "    </tr>\n",
       "    <tr>\n",
       "      <th>min</th>\n",
       "      <td>0.000000</td>\n",
       "      <td>20.000000</td>\n",
       "      <td>4.000000e+03</td>\n",
       "      <td>500.000000</td>\n",
       "      <td>5.420000</td>\n",
       "      <td>0.000000</td>\n",
       "      <td>2.000000</td>\n",
       "      <td>36.000000</td>\n",
       "      <td>0.000000</td>\n",
       "      <td>0.000000</td>\n",
       "      <td>...</td>\n",
       "      <td>0.000000</td>\n",
       "      <td>0.000000</td>\n",
       "      <td>0.000000</td>\n",
       "      <td>0.000000</td>\n",
       "      <td>0.000000</td>\n",
       "      <td>0.000000</td>\n",
       "      <td>0.000000</td>\n",
       "      <td>0.000000</td>\n",
       "      <td>0.000000</td>\n",
       "      <td>0.000000</td>\n",
       "    </tr>\n",
       "    <tr>\n",
       "      <th>25%</th>\n",
       "      <td>2.000000</td>\n",
       "      <td>23.000000</td>\n",
       "      <td>3.939700e+04</td>\n",
       "      <td>5000.000000</td>\n",
       "      <td>7.900000</td>\n",
       "      <td>0.090000</td>\n",
       "      <td>3.000000</td>\n",
       "      <td>36.000000</td>\n",
       "      <td>0.000000</td>\n",
       "      <td>0.000000</td>\n",
       "      <td>...</td>\n",
       "      <td>0.000000</td>\n",
       "      <td>0.000000</td>\n",
       "      <td>0.000000</td>\n",
       "      <td>0.000000</td>\n",
       "      <td>0.000000</td>\n",
       "      <td>0.000000</td>\n",
       "      <td>0.000000</td>\n",
       "      <td>0.000000</td>\n",
       "      <td>1.000000</td>\n",
       "      <td>0.000000</td>\n",
       "    </tr>\n",
       "    <tr>\n",
       "      <th>50%</th>\n",
       "      <td>4.000000</td>\n",
       "      <td>26.000000</td>\n",
       "      <td>5.600000e+04</td>\n",
       "      <td>8000.000000</td>\n",
       "      <td>11.030000</td>\n",
       "      <td>0.150000</td>\n",
       "      <td>4.000000</td>\n",
       "      <td>36.000000</td>\n",
       "      <td>0.000000</td>\n",
       "      <td>0.000000</td>\n",
       "      <td>...</td>\n",
       "      <td>1.000000</td>\n",
       "      <td>0.000000</td>\n",
       "      <td>0.000000</td>\n",
       "      <td>0.000000</td>\n",
       "      <td>0.000000</td>\n",
       "      <td>0.000000</td>\n",
       "      <td>0.000000</td>\n",
       "      <td>0.000000</td>\n",
       "      <td>1.000000</td>\n",
       "      <td>0.000000</td>\n",
       "    </tr>\n",
       "    <tr>\n",
       "      <th>75%</th>\n",
       "      <td>7.000000</td>\n",
       "      <td>30.000000</td>\n",
       "      <td>8.000000e+04</td>\n",
       "      <td>12500.000000</td>\n",
       "      <td>13.480000</td>\n",
       "      <td>0.230000</td>\n",
       "      <td>8.000000</td>\n",
       "      <td>60.000000</td>\n",
       "      <td>0.000000</td>\n",
       "      <td>0.000000</td>\n",
       "      <td>...</td>\n",
       "      <td>1.000000</td>\n",
       "      <td>1.000000</td>\n",
       "      <td>1.000000</td>\n",
       "      <td>0.000000</td>\n",
       "      <td>0.000000</td>\n",
       "      <td>0.000000</td>\n",
       "      <td>0.000000</td>\n",
       "      <td>0.000000</td>\n",
       "      <td>1.000000</td>\n",
       "      <td>0.000000</td>\n",
       "    </tr>\n",
       "    <tr>\n",
       "      <th>max</th>\n",
       "      <td>123.000000</td>\n",
       "      <td>144.000000</td>\n",
       "      <td>6.000000e+06</td>\n",
       "      <td>35000.000000</td>\n",
       "      <td>23.220000</td>\n",
       "      <td>0.830000</td>\n",
       "      <td>30.000000</td>\n",
       "      <td>60.000000</td>\n",
       "      <td>1.000000</td>\n",
       "      <td>1.000000</td>\n",
       "      <td>...</td>\n",
       "      <td>1.000000</td>\n",
       "      <td>1.000000</td>\n",
       "      <td>1.000000</td>\n",
       "      <td>1.000000</td>\n",
       "      <td>1.000000</td>\n",
       "      <td>1.000000</td>\n",
       "      <td>1.000000</td>\n",
       "      <td>1.000000</td>\n",
       "      <td>1.000000</td>\n",
       "      <td>1.000000</td>\n",
       "    </tr>\n",
       "  </tbody>\n",
       "</table>\n",
       "<p>8 rows × 27 columns</p>\n",
       "</div>"
      ],
      "text/plain": [
       "       borrower_employment_length  borrower_age  borrower_income  \\\n",
       "count                31686.000000  31686.000000     3.168600e+04   \n",
       "mean                     4.789686     27.747302     6.669188e+04   \n",
       "std                      4.142630      6.360283     6.242729e+04   \n",
       "min                      0.000000     20.000000     4.000000e+03   \n",
       "25%                      2.000000     23.000000     3.939700e+04   \n",
       "50%                      4.000000     26.000000     5.600000e+04   \n",
       "75%                      7.000000     30.000000     8.000000e+04   \n",
       "max                    123.000000    144.000000     6.000000e+06   \n",
       "\n",
       "        loan_amount     loan_rate  loan_to_income_percent  \\\n",
       "count  31686.000000  31686.000000            31686.000000   \n",
       "mean    9661.337815     11.074397                0.169612   \n",
       "std     6336.226458      3.232059                0.106297   \n",
       "min      500.000000      5.420000                0.000000   \n",
       "25%     5000.000000      7.900000                0.090000   \n",
       "50%     8000.000000     11.030000                0.150000   \n",
       "75%    12500.000000     13.480000                0.230000   \n",
       "max    35000.000000     23.220000                0.830000   \n",
       "\n",
       "       cb_person_cred_hist_length      rem_term  \\\n",
       "count                31686.000000  31686.000000   \n",
       "mean                     5.809316     43.905321   \n",
       "std                      4.060867     11.279965   \n",
       "min                      2.000000     36.000000   \n",
       "25%                      3.000000     36.000000   \n",
       "50%                      4.000000     36.000000   \n",
       "75%                      8.000000     60.000000   \n",
       "max                     30.000000     60.000000   \n",
       "\n",
       "       loan_purpose_DEBTCONSOLIDATION  loan_purpose_EDUCATION  ...  \\\n",
       "count                    31686.000000            31686.000000  ...   \n",
       "mean                         0.159818                0.198510  ...   \n",
       "std                          0.366443                0.398885  ...   \n",
       "min                          0.000000                0.000000  ...   \n",
       "25%                          0.000000                0.000000  ...   \n",
       "50%                          0.000000                0.000000  ...   \n",
       "75%                          0.000000                0.000000  ...   \n",
       "max                          1.000000                1.000000  ...   \n",
       "\n",
       "       borrower_home_ownership_RENT  loan_rating_A  loan_rating_B  \\\n",
       "count                  31686.000000   31686.000000   31686.000000   \n",
       "mean                       0.507353       0.327305       0.321467   \n",
       "std                        0.499954       0.469237       0.467047   \n",
       "min                        0.000000       0.000000       0.000000   \n",
       "25%                        0.000000       0.000000       0.000000   \n",
       "50%                        1.000000       0.000000       0.000000   \n",
       "75%                        1.000000       1.000000       1.000000   \n",
       "max                        1.000000       1.000000       1.000000   \n",
       "\n",
       "       loan_rating_C  loan_rating_D  loan_rating_E  loan_rating_F  \\\n",
       "count   31686.000000   31686.000000   31686.000000   31686.000000   \n",
       "mean        0.199489       0.112226       0.030045       0.007448   \n",
       "std         0.399622       0.315650       0.170713       0.085982   \n",
       "min         0.000000       0.000000       0.000000       0.000000   \n",
       "25%         0.000000       0.000000       0.000000       0.000000   \n",
       "50%         0.000000       0.000000       0.000000       0.000000   \n",
       "75%         0.000000       0.000000       0.000000       0.000000   \n",
       "max         1.000000       1.000000       1.000000       1.000000   \n",
       "\n",
       "       loan_rating_G  cb_person_default_on_file_N  cb_person_default_on_file_Y  \n",
       "count   31686.000000                 31686.000000                 31686.000000  \n",
       "mean        0.002020                     0.822351                     0.177649  \n",
       "std         0.044898                     0.382223                     0.382223  \n",
       "min         0.000000                     0.000000                     0.000000  \n",
       "25%         0.000000                     1.000000                     0.000000  \n",
       "50%         0.000000                     1.000000                     0.000000  \n",
       "75%         0.000000                     1.000000                     0.000000  \n",
       "max         1.000000                     1.000000                     1.000000  \n",
       "\n",
       "[8 rows x 27 columns]"
      ]
     },
     "execution_count": 14,
     "metadata": {},
     "output_type": "execute_result"
    }
   ],
   "source": [
    "X.describe()"
   ]
  },
  {
   "cell_type": "code",
   "execution_count": 15,
   "metadata": {},
   "outputs": [
    {
     "data": {
      "text/plain": [
       "0    24860\n",
       "1     6826\n",
       "Name: loan_status, dtype: int64"
      ]
     },
     "execution_count": 15,
     "metadata": {},
     "output_type": "execute_result"
    }
   ],
   "source": [
    "# Check the balance of our target values\n",
    "loan_data['loan_status'].value_counts()"
   ]
  },
  {
   "cell_type": "code",
   "execution_count": 16,
   "metadata": {},
   "outputs": [
    {
     "data": {
      "text/plain": [
       "(19011, 27)"
      ]
     },
     "execution_count": 16,
     "metadata": {},
     "output_type": "execute_result"
    }
   ],
   "source": [
    "# Split the X and y into X_train, X_test, y_train, y_test\n",
    "# 60% training dataset; 40% test dataset\n",
    "from sklearn.model_selection import train_test_split\n",
    "\n",
    "X_train, X_test, y_train, y_test= train_test_split(X, \n",
    "                                                   y, test_size=.4, \n",
    "                                                   random_state=123, \n",
    "                                                   stratify=y)\n",
    "X_train.shape"
   ]
  },
  {
   "cell_type": "code",
   "execution_count": 17,
   "metadata": {},
   "outputs": [
    {
     "data": {
      "text/plain": [
       "LogisticRegression(C=1.0, class_weight=None, dual=False, fit_intercept=True,\n",
       "                   intercept_scaling=1, l1_ratio=None, max_iter=100,\n",
       "                   multi_class='warn', n_jobs=None, penalty='l2',\n",
       "                   random_state=1, solver='lbfgs', tol=0.0001, verbose=0,\n",
       "                   warm_start=False)"
      ]
     },
     "execution_count": 17,
     "metadata": {},
     "output_type": "execute_result"
    }
   ],
   "source": [
    "# setup Logistic regression\n",
    "classifier = LogisticRegression(solver='lbfgs', random_state=1)\n",
    "classifier"
   ]
  },
  {
   "cell_type": "code",
   "execution_count": 18,
   "metadata": {},
   "outputs": [
    {
     "data": {
      "text/plain": [
       "LogisticRegression(C=1.0, class_weight=None, dual=False, fit_intercept=True,\n",
       "                   intercept_scaling=1, l1_ratio=None, max_iter=100,\n",
       "                   multi_class='warn', n_jobs=None, penalty='l2',\n",
       "                   random_state=1, solver='lbfgs', tol=0.0001, verbose=0,\n",
       "                   warm_start=False)"
      ]
     },
     "execution_count": 18,
     "metadata": {},
     "output_type": "execute_result"
    }
   ],
   "source": [
    "# Train the data with the training dataset\n",
    "classifier.fit(X_train, y_train)"
   ]
  },
  {
   "cell_type": "code",
   "execution_count": 19,
   "metadata": {},
   "outputs": [
    {
     "name": "stdout",
     "output_type": "stream",
     "text": [
      "[[-3.76827800e-02 -4.05602282e-02 -3.61819985e-05  9.93467065e-05\n",
      "   1.89899974e-01  2.42709636e-03  2.96506783e-02 -2.90146224e-02\n",
      "   1.04633511e-02 -1.10313815e-02  6.86841075e-03  5.27349593e-03\n",
      "  -5.36153100e-03 -1.18898846e-02 -1.94082197e-02  4.99777205e-05\n",
      "  -1.26911591e-02  2.63718619e-02 -2.23746964e-02 -2.12023542e-02\n",
      "  -8.83829463e-03  3.25291579e-02  9.91591387e-03  3.01040859e-03\n",
      "   1.28232556e-03 -2.51875643e-02  1.95100251e-02]]\n"
     ]
    }
   ],
   "source": [
    "# Print the coefficients derived from the training data set\n",
    "print(classifier.coef_)"
   ]
  },
  {
   "cell_type": "code",
   "execution_count": 20,
   "metadata": {},
   "outputs": [
    {
     "data": {
      "text/plain": [
       "array([[0.87871166, 0.12128834],\n",
       "       [0.76394156, 0.23605844],\n",
       "       [0.80762893, 0.19237107],\n",
       "       ...,\n",
       "       [0.93363032, 0.06636968],\n",
       "       [0.83622811, 0.16377189],\n",
       "       [0.82640588, 0.17359412]])"
      ]
     },
     "execution_count": 20,
     "metadata": {},
     "output_type": "execute_result"
    }
   ],
   "source": [
    "# Create predictions of probability for loan status using test data\n",
    "pred = classifier.predict_proba(X_test)\n",
    "pred"
   ]
  },
  {
   "cell_type": "code",
   "execution_count": 21,
   "metadata": {},
   "outputs": [
    {
     "data": {
      "text/plain": [
       "ID\n",
       "6004     0\n",
       "31625    1\n",
       "19839    0\n",
       "2749     1\n",
       "8605     0\n",
       "        ..\n",
       "31809    0\n",
       "28605    0\n",
       "28691    0\n",
       "2037     0\n",
       "31729    1\n",
       "Name: loan_status, Length: 12675, dtype: int64"
      ]
     },
     "execution_count": 21,
     "metadata": {},
     "output_type": "execute_result"
    }
   ],
   "source": [
    "# Create dataframes of predictions, and true labels\n",
    "pred_df = pd.DataFrame(pred[:,1], columns = ['prob_default'])\n",
    "true_df = y_test\n",
    "true_df"
   ]
  },
  {
   "cell_type": "code",
   "execution_count": 22,
   "metadata": {},
   "outputs": [
    {
     "name": "stdout",
     "output_type": "stream",
     "text": [
      "       loan_status  prob_default\n",
      "0                0      0.121288\n",
      "1                1      0.236058\n",
      "2                0      0.192371\n",
      "3                1      0.410642\n",
      "4                0      0.566931\n",
      "...            ...           ...\n",
      "12670            0      0.003404\n",
      "12671            0      0.072478\n",
      "12672            0      0.066370\n",
      "12673            0      0.163772\n",
      "12674            1      0.173594\n",
      "\n",
      "[12675 rows x 2 columns]\n"
     ]
    }
   ],
   "source": [
    "# Concatenate and print the two data frames for comparison\n",
    "print(pd.concat([true_df.reset_index(drop = True), pred_df], axis = 1))"
   ]
  },
  {
   "cell_type": "code",
   "execution_count": 23,
   "metadata": {},
   "outputs": [
    {
     "data": {
      "text/html": [
       "<div>\n",
       "<style scoped>\n",
       "    .dataframe tbody tr th:only-of-type {\n",
       "        vertical-align: middle;\n",
       "    }\n",
       "\n",
       "    .dataframe tbody tr th {\n",
       "        vertical-align: top;\n",
       "    }\n",
       "\n",
       "    .dataframe thead th {\n",
       "        text-align: right;\n",
       "    }\n",
       "</style>\n",
       "<table border=\"1\" class=\"dataframe\">\n",
       "  <thead>\n",
       "    <tr style=\"text-align: right;\">\n",
       "      <th></th>\n",
       "      <th>loan_status</th>\n",
       "      <th>prob_default</th>\n",
       "    </tr>\n",
       "  </thead>\n",
       "  <tbody>\n",
       "    <tr>\n",
       "      <th>12665</th>\n",
       "      <td>0</td>\n",
       "      <td>0.196398</td>\n",
       "    </tr>\n",
       "    <tr>\n",
       "      <th>12666</th>\n",
       "      <td>0</td>\n",
       "      <td>0.123370</td>\n",
       "    </tr>\n",
       "    <tr>\n",
       "      <th>12667</th>\n",
       "      <td>0</td>\n",
       "      <td>0.305833</td>\n",
       "    </tr>\n",
       "    <tr>\n",
       "      <th>12668</th>\n",
       "      <td>1</td>\n",
       "      <td>0.106578</td>\n",
       "    </tr>\n",
       "    <tr>\n",
       "      <th>12669</th>\n",
       "      <td>0</td>\n",
       "      <td>0.217508</td>\n",
       "    </tr>\n",
       "    <tr>\n",
       "      <th>12670</th>\n",
       "      <td>0</td>\n",
       "      <td>0.003404</td>\n",
       "    </tr>\n",
       "    <tr>\n",
       "      <th>12671</th>\n",
       "      <td>0</td>\n",
       "      <td>0.072478</td>\n",
       "    </tr>\n",
       "    <tr>\n",
       "      <th>12672</th>\n",
       "      <td>0</td>\n",
       "      <td>0.066370</td>\n",
       "    </tr>\n",
       "    <tr>\n",
       "      <th>12673</th>\n",
       "      <td>0</td>\n",
       "      <td>0.163772</td>\n",
       "    </tr>\n",
       "    <tr>\n",
       "      <th>12674</th>\n",
       "      <td>1</td>\n",
       "      <td>0.173594</td>\n",
       "    </tr>\n",
       "  </tbody>\n",
       "</table>\n",
       "</div>"
      ],
      "text/plain": [
       "       loan_status  prob_default\n",
       "12665            0      0.196398\n",
       "12666            0      0.123370\n",
       "12667            0      0.305833\n",
       "12668            1      0.106578\n",
       "12669            0      0.217508\n",
       "12670            0      0.003404\n",
       "12671            0      0.072478\n",
       "12672            0      0.066370\n",
       "12673            0      0.163772\n",
       "12674            1      0.173594"
      ]
     },
     "execution_count": 23,
     "metadata": {},
     "output_type": "execute_result"
    }
   ],
   "source": [
    "new = pd.concat([true_df.reset_index(drop = True), pred_df], axis = 1)\n",
    "new.tail(10)"
   ]
  },
  {
   "cell_type": "code",
   "execution_count": 24,
   "metadata": {},
   "outputs": [
    {
     "data": {
      "text/html": [
       "<div>\n",
       "<style scoped>\n",
       "    .dataframe tbody tr th:only-of-type {\n",
       "        vertical-align: middle;\n",
       "    }\n",
       "\n",
       "    .dataframe tbody tr th {\n",
       "        vertical-align: top;\n",
       "    }\n",
       "\n",
       "    .dataframe thead th {\n",
       "        text-align: right;\n",
       "    }\n",
       "</style>\n",
       "<table border=\"1\" class=\"dataframe\">\n",
       "  <thead>\n",
       "    <tr style=\"text-align: right;\">\n",
       "      <th></th>\n",
       "      <th>prob_default</th>\n",
       "    </tr>\n",
       "  </thead>\n",
       "  <tbody>\n",
       "    <tr>\n",
       "      <th>12670</th>\n",
       "      <td>0.003404</td>\n",
       "    </tr>\n",
       "    <tr>\n",
       "      <th>12671</th>\n",
       "      <td>0.072478</td>\n",
       "    </tr>\n",
       "    <tr>\n",
       "      <th>12672</th>\n",
       "      <td>0.066370</td>\n",
       "    </tr>\n",
       "    <tr>\n",
       "      <th>12673</th>\n",
       "      <td>0.163772</td>\n",
       "    </tr>\n",
       "    <tr>\n",
       "      <th>12674</th>\n",
       "      <td>0.173594</td>\n",
       "    </tr>\n",
       "  </tbody>\n",
       "</table>\n",
       "</div>"
      ],
      "text/plain": [
       "       prob_default\n",
       "12670      0.003404\n",
       "12671      0.072478\n",
       "12672      0.066370\n",
       "12673      0.163772\n",
       "12674      0.173594"
      ]
     },
     "execution_count": 24,
     "metadata": {},
     "output_type": "execute_result"
    }
   ],
   "source": [
    "# Create a dataframe for the probabilities of default\n",
    "pred_df = pd.DataFrame(pred[:,1], columns = ['prob_default'])\n",
    "pred_df.tail()"
   ]
  },
  {
   "cell_type": "code",
   "execution_count": 25,
   "metadata": {},
   "outputs": [
    {
     "data": {
      "text/html": [
       "<div>\n",
       "<style scoped>\n",
       "    .dataframe tbody tr th:only-of-type {\n",
       "        vertical-align: middle;\n",
       "    }\n",
       "\n",
       "    .dataframe tbody tr th {\n",
       "        vertical-align: top;\n",
       "    }\n",
       "\n",
       "    .dataframe thead th {\n",
       "        text-align: right;\n",
       "    }\n",
       "</style>\n",
       "<table border=\"1\" class=\"dataframe\">\n",
       "  <thead>\n",
       "    <tr style=\"text-align: right;\">\n",
       "      <th></th>\n",
       "      <th>prob_default</th>\n",
       "      <th>loan_status</th>\n",
       "    </tr>\n",
       "  </thead>\n",
       "  <tbody>\n",
       "    <tr>\n",
       "      <th>12670</th>\n",
       "      <td>0.003404</td>\n",
       "      <td>0</td>\n",
       "    </tr>\n",
       "    <tr>\n",
       "      <th>12671</th>\n",
       "      <td>0.072478</td>\n",
       "      <td>0</td>\n",
       "    </tr>\n",
       "    <tr>\n",
       "      <th>12672</th>\n",
       "      <td>0.066370</td>\n",
       "      <td>0</td>\n",
       "    </tr>\n",
       "    <tr>\n",
       "      <th>12673</th>\n",
       "      <td>0.163772</td>\n",
       "      <td>0</td>\n",
       "    </tr>\n",
       "    <tr>\n",
       "      <th>12674</th>\n",
       "      <td>0.173594</td>\n",
       "      <td>0</td>\n",
       "    </tr>\n",
       "  </tbody>\n",
       "</table>\n",
       "</div>"
      ],
      "text/plain": [
       "       prob_default  loan_status\n",
       "12670      0.003404            0\n",
       "12671      0.072478            0\n",
       "12672      0.066370            0\n",
       "12673      0.163772            0\n",
       "12674      0.173594            0"
      ]
     },
     "execution_count": 25,
     "metadata": {},
     "output_type": "execute_result"
    }
   ],
   "source": [
    "# Reassign loan status based on the threshold\n",
    "pred_df['loan_status'] = pred_df['prob_default'].apply(lambda x: 1 if x > 0.40 else 0)\n",
    "pred_df.tail()"
   ]
  },
  {
   "cell_type": "code",
   "execution_count": 26,
   "metadata": {},
   "outputs": [
    {
     "name": "stdout",
     "output_type": "stream",
     "text": [
      "0    10327\n",
      "1     2348\n",
      "Name: loan_status, dtype: int64\n"
     ]
    }
   ],
   "source": [
    "# Print the row counts for each loan status\n",
    "print(pred_df['loan_status'].value_counts())"
   ]
  },
  {
   "cell_type": "code",
   "execution_count": 27,
   "metadata": {},
   "outputs": [
    {
     "name": "stdout",
     "output_type": "stream",
     "text": [
      "              precision    recall  f1-score   support\n",
      "\n",
      " Non-Default       0.87      0.90      0.88      9944\n",
      "     Default       0.57      0.49      0.53      2731\n",
      "\n",
      "    accuracy                           0.81     12675\n",
      "   macro avg       0.72      0.70      0.71     12675\n",
      "weighted avg       0.80      0.81      0.81     12675\n",
      "\n"
     ]
    }
   ],
   "source": [
    "# Print the classification report\n",
    "target_names = ['Non-Default', 'Default']\n",
    "print(classification_report(y_test, pred_df['loan_status'], target_names=target_names))"
   ]
  },
  {
   "cell_type": "code",
   "execution_count": 28,
   "metadata": {},
   "outputs": [
    {
     "data": {
      "text/plain": [
       "prob_default    12675\n",
       "loan_status     12675\n",
       "dtype: int64"
      ]
     },
     "execution_count": 28,
     "metadata": {},
     "output_type": "execute_result"
    }
   ],
   "source": [
    "pred_df.count()"
   ]
  },
  {
   "cell_type": "code",
   "execution_count": 29,
   "metadata": {},
   "outputs": [
    {
     "name": "stdout",
     "output_type": "stream",
     "text": [
      "[[8939 1005]\n",
      " [1388 1343]]\n"
     ]
    }
   ],
   "source": [
    "# Print the confusion matrix\n",
    "print(confusion_matrix(y_test,pred_df['loan_status']))"
   ]
  },
  {
   "cell_type": "code",
   "execution_count": 30,
   "metadata": {},
   "outputs": [
    {
     "name": "stdout",
     "output_type": "stream",
     "text": [
      "(array([0.86559504, 0.57197615]), array([0.89893403, 0.49176126]), array([0.88194958, 0.52884426]), array([9944, 2731], dtype=int64))\n"
     ]
    }
   ],
   "source": [
    "# Print all the non-average values from the report\n",
    "print(precision_recall_fscore_support(y_test,pred_df['loan_status']))"
   ]
  },
  {
   "cell_type": "code",
   "execution_count": 31,
   "metadata": {},
   "outputs": [
    {
     "name": "stdout",
     "output_type": "stream",
     "text": [
      "[0.86559504 0.57197615]\n"
     ]
    }
   ],
   "source": [
    "# Print the first two numbers from the report\n",
    "print(precision_recall_fscore_support(y_test,pred_df['loan_status'])[0])"
   ]
  },
  {
   "cell_type": "code",
   "execution_count": 32,
   "metadata": {},
   "outputs": [
    {
     "name": "stdout",
     "output_type": "stream",
     "text": [
      "0.8219329388560158\n"
     ]
    },
    {
     "data": {
      "image/png": "[encoded data removed]",
      "text/plain": [
       "<Figure size 432x288 with 1 Axes>"
      ]
     },
     "metadata": {
      "needs_background": "light"
     },
     "output_type": "display_data"
    }
   ],
   "source": [
    "# Create predictions of probability for loan status using test data\n",
    "pred = classifier.predict_proba(X_test)\n",
    "\n",
    "# Print the accuracy score the model\n",
    "print(classifier.score(X_test, y_test))\n",
    "\n",
    "# Plot the ROC curve of the probabilities of default\n",
    "prob_default = pred[:, 1]\n",
    "fallout, sensitivity, thresholds = roc_curve(y_test, prob_default)\n",
    "plt.plot(fallout, sensitivity, color = 'darkorange')\n",
    "plt.plot([0, 1], [0, 1], linestyle='--')\n",
    "plt.show()\n",
    "\n",
    "# Compute the AUC and store it in a variable\n",
    "#auc = roc_auc_score(y_test, prob_default)"
   ]
  },
  {
   "cell_type": "code",
   "execution_count": 33,
   "metadata": {},
   "outputs": [
    {
     "data": {
      "text/plain": [
       "array([0.12128834, 0.23605844, 0.19237107, ..., 0.06636968, 0.16377189,\n",
       "       0.17359412])"
      ]
     },
     "execution_count": 33,
     "metadata": {},
     "output_type": "execute_result"
    }
   ],
   "source": [
    "prob_default = pred[:, 1]\n",
    "prob_default"
   ]
  },
  {
   "cell_type": "code",
   "execution_count": 43,
   "metadata": {},
   "outputs": [
    {
     "name": "stdout",
     "output_type": "stream",
     "text": [
      "       loan_status  prob_default\n",
      "0                0      0.065829\n",
      "1                1      0.965480\n",
      "2                0      0.117427\n",
      "3                1      0.820973\n",
      "4                0      0.211945\n",
      "...            ...           ...\n",
      "12670            0      0.017798\n",
      "12671            0      0.099882\n",
      "12672            0      0.054771\n",
      "12673            0      0.110865\n",
      "12674            1      0.181134\n",
      "\n",
      "[12675 rows x 2 columns]\n"
     ]
    }
   ],
   "source": [
    "# start using XGBoost\n",
    "# Train a model\n",
    "import xgboost as xgb\n",
    "clf_gbt = xgb.XGBClassifier().fit(X_train, y_train.ravel())\n",
    "\n",
    "# Predict with a model\n",
    "gbt_preds = clf_gbt.predict_proba(X_test)\n",
    "\n",
    "# Create dataframes of predictions, and true labels\n",
    "preds_df = pd.DataFrame(gbt_preds[:,1], columns = ['prob_default'])\n",
    "true_df = y_test\n",
    "\n",
    "# Concatenate and print the two data frames for comparison\n",
    "print(pd.concat([true_df.reset_index(drop = True), preds_df], axis = 1))"
   ]
  },
  {
   "cell_type": "code",
   "execution_count": 44,
   "metadata": {},
   "outputs": [
    {
     "data": {
      "text/html": [
       "<div>\n",
       "<style scoped>\n",
       "    .dataframe tbody tr th:only-of-type {\n",
       "        vertical-align: middle;\n",
       "    }\n",
       "\n",
       "    .dataframe tbody tr th {\n",
       "        vertical-align: top;\n",
       "    }\n",
       "\n",
       "    .dataframe thead th {\n",
       "        text-align: right;\n",
       "    }\n",
       "</style>\n",
       "<table border=\"1\" class=\"dataframe\">\n",
       "  <thead>\n",
       "    <tr style=\"text-align: right;\">\n",
       "      <th></th>\n",
       "      <th>loan_status</th>\n",
       "      <th>prob_default</th>\n",
       "    </tr>\n",
       "  </thead>\n",
       "  <tbody>\n",
       "    <tr>\n",
       "      <th>0</th>\n",
       "      <td>0</td>\n",
       "      <td>0.065829</td>\n",
       "    </tr>\n",
       "    <tr>\n",
       "      <th>1</th>\n",
       "      <td>1</td>\n",
       "      <td>0.965480</td>\n",
       "    </tr>\n",
       "    <tr>\n",
       "      <th>2</th>\n",
       "      <td>0</td>\n",
       "      <td>0.117427</td>\n",
       "    </tr>\n",
       "    <tr>\n",
       "      <th>3</th>\n",
       "      <td>1</td>\n",
       "      <td>0.820973</td>\n",
       "    </tr>\n",
       "    <tr>\n",
       "      <th>4</th>\n",
       "      <td>0</td>\n",
       "      <td>0.211945</td>\n",
       "    </tr>\n",
       "    <tr>\n",
       "      <th>5</th>\n",
       "      <td>1</td>\n",
       "      <td>0.258727</td>\n",
       "    </tr>\n",
       "    <tr>\n",
       "      <th>6</th>\n",
       "      <td>0</td>\n",
       "      <td>0.021395</td>\n",
       "    </tr>\n",
       "    <tr>\n",
       "      <th>7</th>\n",
       "      <td>0</td>\n",
       "      <td>0.012129</td>\n",
       "    </tr>\n",
       "    <tr>\n",
       "      <th>8</th>\n",
       "      <td>0</td>\n",
       "      <td>0.040664</td>\n",
       "    </tr>\n",
       "    <tr>\n",
       "      <th>9</th>\n",
       "      <td>0</td>\n",
       "      <td>0.065829</td>\n",
       "    </tr>\n",
       "  </tbody>\n",
       "</table>\n",
       "</div>"
      ],
      "text/plain": [
       "   loan_status  prob_default\n",
       "0            0      0.065829\n",
       "1            1      0.965480\n",
       "2            0      0.117427\n",
       "3            1      0.820973\n",
       "4            0      0.211945\n",
       "5            1      0.258727\n",
       "6            0      0.021395\n",
       "7            0      0.012129\n",
       "8            0      0.040664\n",
       "9            0      0.065829"
      ]
     },
     "execution_count": 44,
     "metadata": {},
     "output_type": "execute_result"
    }
   ],
   "source": [
    "xgb_preds=pd.concat([true_df.reset_index(drop = True), preds_df], axis = 1)\n",
    "xgb_preds.head(10)"
   ]
  },
  {
   "cell_type": "code",
   "execution_count": 46,
   "metadata": {},
   "outputs": [
    {
     "data": {
      "text/plain": [
       "loan_status     12675\n",
       "prob_default    12675\n",
       "dtype: int64"
      ]
     },
     "execution_count": 46,
     "metadata": {},
     "output_type": "execute_result"
    }
   ],
   "source": [
    "xgb_preds.count()"
   ]
  },
  {
   "cell_type": "code",
   "execution_count": 47,
   "metadata": {},
   "outputs": [
    {
     "data": {
      "text/plain": [
       "array([0.06582889, 0.96548027, 0.11742743, ..., 0.05477149, 0.11086532,\n",
       "       0.18113363], dtype=float32)"
      ]
     },
     "execution_count": 47,
     "metadata": {},
     "output_type": "execute_result"
    }
   ],
   "source": [
    "prob_default2 = gbt_preds[:, 1]\n",
    "prob_default2"
   ]
  },
  {
   "cell_type": "code",
   "execution_count": 48,
   "metadata": {},
   "outputs": [
    {
     "data": {
      "text/html": [
       "<div>\n",
       "<style scoped>\n",
       "    .dataframe tbody tr th:only-of-type {\n",
       "        vertical-align: middle;\n",
       "    }\n",
       "\n",
       "    .dataframe tbody tr th {\n",
       "        vertical-align: top;\n",
       "    }\n",
       "\n",
       "    .dataframe thead th {\n",
       "        text-align: right;\n",
       "    }\n",
       "</style>\n",
       "<table border=\"1\" class=\"dataframe\">\n",
       "  <thead>\n",
       "    <tr style=\"text-align: right;\">\n",
       "      <th></th>\n",
       "      <th>prob_default</th>\n",
       "    </tr>\n",
       "  </thead>\n",
       "  <tbody>\n",
       "    <tr>\n",
       "      <th>12670</th>\n",
       "      <td>0.017798</td>\n",
       "    </tr>\n",
       "    <tr>\n",
       "      <th>12671</th>\n",
       "      <td>0.099882</td>\n",
       "    </tr>\n",
       "    <tr>\n",
       "      <th>12672</th>\n",
       "      <td>0.054771</td>\n",
       "    </tr>\n",
       "    <tr>\n",
       "      <th>12673</th>\n",
       "      <td>0.110865</td>\n",
       "    </tr>\n",
       "    <tr>\n",
       "      <th>12674</th>\n",
       "      <td>0.181134</td>\n",
       "    </tr>\n",
       "  </tbody>\n",
       "</table>\n",
       "</div>"
      ],
      "text/plain": [
       "       prob_default\n",
       "12670      0.017798\n",
       "12671      0.099882\n",
       "12672      0.054771\n",
       "12673      0.110865\n",
       "12674      0.181134"
      ]
     },
     "execution_count": 48,
     "metadata": {},
     "output_type": "execute_result"
    }
   ],
   "source": [
    "preds_df.tail()"
   ]
  },
  {
   "cell_type": "code",
   "execution_count": 49,
   "metadata": {},
   "outputs": [
    {
     "name": "stdout",
     "output_type": "stream",
     "text": [
      "[0 1 0 ... 0 0 0]\n",
      "              precision    recall  f1-score   support\n",
      "\n",
      " Non-Default       0.92      0.99      0.96      9944\n",
      "     Default       0.96      0.70      0.81      2731\n",
      "\n",
      "    accuracy                           0.93     12675\n",
      "   macro avg       0.94      0.85      0.88     12675\n",
      "weighted avg       0.93      0.93      0.92     12675\n",
      "\n"
     ]
    }
   ],
   "source": [
    "# Predict the labels for loan status\n",
    "gbt_preds = clf_gbt.predict(X_test)\n",
    "\n",
    "# Check the values created by the predict method\n",
    "print(gbt_preds)\n",
    "\n",
    "# Print the classification report of the model\n",
    "target_names = ['Non-Default', 'Default']\n",
    "print(classification_report(y_test, gbt_preds, target_names=target_names))"
   ]
  },
  {
   "cell_type": "code",
   "execution_count": 50,
   "metadata": {},
   "outputs": [],
   "source": [
    "# higher recall for dedault indicates better results for XGBoost compared to logistic regression"
   ]
  },
  {
   "cell_type": "code",
   "execution_count": 51,
   "metadata": {},
   "outputs": [
    {
     "name": "stdout",
     "output_type": "stream",
     "text": [
      "{'loan_to_income_percent': 81, 'loan_rating_D': 44, 'borrower_income': 116, 'loan_purpose_DEBTCONSOLIDATION': 33, 'borrower_home_ownership_RENT': 46, 'loan_rate': 46, 'borrower_employment_length': 30, 'loan_rating_E': 37, 'loan_rating_C': 4, 'loan_purpose_MEDICAL': 28, 'loan_purpose_HOMEIMPROVEMENT': 25, 'borrower_home_ownership_OWN': 36, 'loan_rating_A': 13, 'loan_rating_B': 7, 'loan_purpose_VENTURE': 17, 'loan_rating_F': 17, 'loan_rating_G': 20, 'borrower_home_ownership_MORTGAGE': 6, 'loan_purpose_EDUCATION': 6, 'borrower_age': 5, 'loan_purpose_PERSONAL': 6, 'loan_amount': 9, 'cb_person_cred_hist_length': 2}\n"
     ]
    }
   ],
   "source": [
    "# assess feature importance\n",
    "# Print the column importances from the model\n",
    "print(clf_gbt.get_booster().get_score(importance_type = 'weight'))"
   ]
  },
  {
   "cell_type": "code",
   "execution_count": 52,
   "metadata": {},
   "outputs": [
    {
     "data": {
      "image/png": "[encoded data removed]",
      "text/plain": [
       "<Figure size 432x288 with 1 Axes>"
      ]
     },
     "metadata": {
      "needs_background": "light"
     },
     "output_type": "display_data"
    }
   ],
   "source": [
    "# Plot the column importance for this model\n",
    "xgb.plot_importance(clf_gbt, importance_type = 'weight')\n",
    "plt.show()"
   ]
  },
  {
   "cell_type": "code",
   "execution_count": 59,
   "metadata": {},
   "outputs": [
    {
     "name": "stdout",
     "output_type": "stream",
     "text": [
      "              precision    recall  f1-score   support\n",
      "\n",
      " Non-Default       0.87      0.90      0.88      9944\n",
      "     Default       0.57      0.49      0.53      2731\n",
      "\n",
      "    accuracy                           0.81     12675\n",
      "   macro avg       0.72      0.70      0.71     12675\n",
      "weighted avg       0.80      0.81      0.81     12675\n",
      "\n",
      "              precision    recall  f1-score   support\n",
      "\n",
      " Non-Default       0.92      0.99      0.96      9944\n",
      "     Default       0.96      0.70      0.81      2731\n",
      "\n",
      "    accuracy                           0.93     12675\n",
      "   macro avg       0.94      0.85      0.88     12675\n",
      "weighted avg       0.93      0.93      0.92     12675\n",
      "\n"
     ]
    }
   ],
   "source": [
    "# evaluating both models\n",
    "# Print the logistic regression classification report\n",
    "target_names = ['Non-Default', 'Default']\n",
    "print(classification_report(y_test, pred_df['loan_status'], target_names=target_names))\n",
    "# Print the gradient boosted tree classification report\n",
    "print(classification_report(y_test, gbt_preds, target_names=target_names))\n",
    "\n"
   ]
  },
  {
   "cell_type": "code",
   "execution_count": 60,
   "metadata": {},
   "outputs": [
    {
     "name": "stdout",
     "output_type": "stream",
     "text": [
      "0.7053969219147882\n",
      "0.8831847877767947\n"
     ]
    }
   ],
   "source": [
    "# Print the default F-1 scores for the logistic regression\n",
    "print(precision_recall_fscore_support(y_test,pred_df['loan_status'], average = 'macro')[2])\n",
    "\n",
    "# Print the default F-1 scores for the gradient boosted tree\n",
    "print(precision_recall_fscore_support(y_test,gbt_preds, average = 'macro')[2])"
   ]
  },
  {
   "cell_type": "code",
   "execution_count": 61,
   "metadata": {},
   "outputs": [],
   "source": [
    "# gradient booster appears to be more accurate"
   ]
  },
  {
   "cell_type": "code",
   "execution_count": 62,
   "metadata": {},
   "outputs": [
    {
     "name": "stdout",
     "output_type": "stream",
     "text": [
      "Logistic Regression AUC Score: 0.80\n"
     ]
    }
   ],
   "source": [
    "print(\"Logistic Regression AUC Score: %0.2f\" % roc_auc_score(y_test, prob_default))"
   ]
  },
  {
   "cell_type": "code",
   "execution_count": 63,
   "metadata": {},
   "outputs": [
    {
     "name": "stdout",
     "output_type": "stream",
     "text": [
      "Gradient Boosted Tree AUC Score: 0.93\n"
     ]
    }
   ],
   "source": [
    "print(\"Gradient Boosted Tree AUC Score: %0.2f\" % roc_auc_score(y_test, prob_default2))"
   ]
  },
  {
   "cell_type": "code",
   "execution_count": 64,
   "metadata": {},
   "outputs": [
    {
     "data": {
      "image/png": "[encoded data removed]",
      "text/plain": [
       "<Figure size 432x288 with 1 Axes>"
      ]
     },
     "metadata": {
      "needs_background": "light"
     },
     "output_type": "display_data"
    }
   ],
   "source": [
    "# ROC Chart with both\n",
    "fallout, sensitivity, thresholds = roc_curve(y_test, prob_default)\n",
    "fallout2, sensitivity2, thresholds2 = roc_curve(y_test, prob_default2)\n",
    "plt.plot(fallout, sensitivity, color = 'blue', label='%s' % 'Logistic Regression')\n",
    "plt.plot(fallout2, sensitivity2, color = 'green', label='%s' % 'GBT')\n",
    "plt.plot([0, 1], [0, 1], linestyle='--', label='%s' % 'Random Prediction')\n",
    "plt.title(\"ROC Chart for LR and GBT on the Probability of Default\")\n",
    "plt.xlabel('Fall-out')\n",
    "plt.ylabel('Sensitivity')\n",
    "plt.legend()\n",
    "plt.show()"
   ]
  },
  {
   "cell_type": "code",
   "execution_count": null,
   "metadata": {},
   "outputs": [],
   "source": []
  },
  {
   "cell_type": "code",
   "execution_count": null,
   "metadata": {},
   "outputs": [],
   "source": []
  }
 ],
 "metadata": {
  "kernelspec": {
   "display_name": "Python 3",
   "language": "python",
   "name": "python3"
  },
  "language_info": {
   "codemirror_mode": {
    "name": "ipython",
    "version": 3
   },
   "file_extension": ".py",
   "mimetype": "text/x-python",
   "name": "python",
   "nbconvert_exporter": "python",
   "pygments_lexer": "ipython3",
   "version": "3.7.3"
  }
 },
 "nbformat": 4,
 "nbformat_minor": 4
}
