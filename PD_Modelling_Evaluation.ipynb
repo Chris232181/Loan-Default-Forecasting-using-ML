{
 "cells": [
  {
   "cell_type": "code",
   "execution_count": 1,
   "metadata": {},
   "outputs": [],
   "source": [
    "import matplotlib.pyplot as plt\n",
    "import numpy as np\n",
    "import pandas as pd\n",
    "from pathlib import Path\n",
    "from collections import Counter"
   ]
  },
  {
   "cell_type": "code",
   "execution_count": 2,
   "metadata": {},
   "outputs": [],
   "source": [
    "from sklearn.linear_model import LogisticRegression\n",
    "from sklearn.metrics import balanced_accuracy_score\n",
    "from sklearn.metrics import roc_curve\n",
    "from sklearn.metrics import roc_auc_score\n",
    "from sklearn.metrics import precision_recall_fscore_support\n",
    "from sklearn.metrics import confusion_matrix\n",
    "from imblearn.metrics import classification_report_imbalanced\n",
    "from sklearn.metrics import classification_report\n",
    "from sklearn.metrics import accuracy_score, classification_report\n",
    "from sklearn.preprocessing import LabelEncoder, StandardScaler\n",
    "from imblearn.ensemble import BalancedRandomForestClassifier\n",
    "from sklearn.ensemble import AdaBoostClassifier\n",
    "from imblearn.ensemble import EasyEnsembleClassifier\n",
    "from xgboost import XGBClassifier"
   ]
  },
  {
   "cell_type": "code",
   "execution_count": 3,
   "metadata": {},
   "outputs": [
    {
     "data": {
      "text/html": [
       "<div>\n",
       "<style scoped>\n",
       "    .dataframe tbody tr th:only-of-type {\n",
       "        vertical-align: middle;\n",
       "    }\n",
       "\n",
       "    .dataframe tbody tr th {\n",
       "        vertical-align: top;\n",
       "    }\n",
       "\n",
       "    .dataframe thead th {\n",
       "        text-align: right;\n",
       "    }\n",
       "</style>\n",
       "<table border=\"1\" class=\"dataframe\">\n",
       "  <thead>\n",
       "    <tr style=\"text-align: right;\">\n",
       "      <th></th>\n",
       "      <th>person_age</th>\n",
       "      <th>person_income</th>\n",
       "      <th>person_home_ownership</th>\n",
       "      <th>person_emp_length</th>\n",
       "      <th>loan_intent</th>\n",
       "      <th>loan_grade</th>\n",
       "      <th>loan_amnt</th>\n",
       "      <th>loan_int_rate</th>\n",
       "      <th>loan_status</th>\n",
       "      <th>loan_percent_income</th>\n",
       "      <th>cb_person_default_on_file</th>\n",
       "      <th>cb_person_cred_hist_length</th>\n",
       "      <th>rem_term</th>\n",
       "    </tr>\n",
       "    <tr>\n",
       "      <th>ID</th>\n",
       "      <th></th>\n",
       "      <th></th>\n",
       "      <th></th>\n",
       "      <th></th>\n",
       "      <th></th>\n",
       "      <th></th>\n",
       "      <th></th>\n",
       "      <th></th>\n",
       "      <th></th>\n",
       "      <th></th>\n",
       "      <th></th>\n",
       "      <th></th>\n",
       "      <th></th>\n",
       "    </tr>\n",
       "  </thead>\n",
       "  <tbody>\n",
       "    <tr>\n",
       "      <th>6450</th>\n",
       "      <td>23</td>\n",
       "      <td>34255</td>\n",
       "      <td>RENT</td>\n",
       "      <td>7.0</td>\n",
       "      <td>VENTURE</td>\n",
       "      <td>G</td>\n",
       "      <td>6000</td>\n",
       "      <td>22.11</td>\n",
       "      <td>1</td>\n",
       "      <td>0.18</td>\n",
       "      <td>Y</td>\n",
       "      <td>3</td>\n",
       "      <td>36</td>\n",
       "    </tr>\n",
       "    <tr>\n",
       "      <th>17072</th>\n",
       "      <td>23</td>\n",
       "      <td>45000</td>\n",
       "      <td>RENT</td>\n",
       "      <td>2.0</td>\n",
       "      <td>VENTURE</td>\n",
       "      <td>A</td>\n",
       "      <td>6575</td>\n",
       "      <td>8.00</td>\n",
       "      <td>0</td>\n",
       "      <td>0.15</td>\n",
       "      <td>N</td>\n",
       "      <td>3</td>\n",
       "      <td>60</td>\n",
       "    </tr>\n",
       "    <tr>\n",
       "      <th>9101</th>\n",
       "      <td>25</td>\n",
       "      <td>61995</td>\n",
       "      <td>RENT</td>\n",
       "      <td>2.0</td>\n",
       "      <td>VENTURE</td>\n",
       "      <td>B</td>\n",
       "      <td>8000</td>\n",
       "      <td>9.99</td>\n",
       "      <td>0</td>\n",
       "      <td>0.13</td>\n",
       "      <td>N</td>\n",
       "      <td>4</td>\n",
       "      <td>36</td>\n",
       "    </tr>\n",
       "    <tr>\n",
       "      <th>30014</th>\n",
       "      <td>39</td>\n",
       "      <td>44000</td>\n",
       "      <td>MORTGAGE</td>\n",
       "      <td>2.0</td>\n",
       "      <td>MEDICAL</td>\n",
       "      <td>B</td>\n",
       "      <td>8000</td>\n",
       "      <td>9.63</td>\n",
       "      <td>0</td>\n",
       "      <td>0.18</td>\n",
       "      <td>N</td>\n",
       "      <td>17</td>\n",
       "      <td>36</td>\n",
       "    </tr>\n",
       "    <tr>\n",
       "      <th>6288</th>\n",
       "      <td>24</td>\n",
       "      <td>32004</td>\n",
       "      <td>RENT</td>\n",
       "      <td>2.0</td>\n",
       "      <td>PERSONAL</td>\n",
       "      <td>D</td>\n",
       "      <td>6000</td>\n",
       "      <td>14.84</td>\n",
       "      <td>1</td>\n",
       "      <td>0.19</td>\n",
       "      <td>N</td>\n",
       "      <td>4</td>\n",
       "      <td>36</td>\n",
       "    </tr>\n",
       "  </tbody>\n",
       "</table>\n",
       "</div>"
      ],
      "text/plain": [
       "       person_age  person_income person_home_ownership  person_emp_length  \\\n",
       "ID                                                                          \n",
       "6450           23          34255                  RENT                7.0   \n",
       "17072          23          45000                  RENT                2.0   \n",
       "9101           25          61995                  RENT                2.0   \n",
       "30014          39          44000              MORTGAGE                2.0   \n",
       "6288           24          32004                  RENT                2.0   \n",
       "\n",
       "      loan_intent loan_grade  loan_amnt  loan_int_rate  loan_status  \\\n",
       "ID                                                                    \n",
       "6450      VENTURE          G       6000          22.11            1   \n",
       "17072     VENTURE          A       6575           8.00            0   \n",
       "9101      VENTURE          B       8000           9.99            0   \n",
       "30014     MEDICAL          B       8000           9.63            0   \n",
       "6288     PERSONAL          D       6000          14.84            1   \n",
       "\n",
       "       loan_percent_income cb_person_default_on_file  \\\n",
       "ID                                                     \n",
       "6450                  0.18                         Y   \n",
       "17072                 0.15                         N   \n",
       "9101                  0.13                         N   \n",
       "30014                 0.18                         N   \n",
       "6288                  0.19                         N   \n",
       "\n",
       "       cb_person_cred_hist_length  rem_term  \n",
       "ID                                           \n",
       "6450                            3        36  \n",
       "17072                           3        60  \n",
       "9101                            4        36  \n",
       "30014                          17        36  \n",
       "6288                            4        36  "
      ]
     },
     "execution_count": 3,
     "metadata": {},
     "output_type": "execute_result"
    }
   ],
   "source": [
    "# Take sample of data\n",
    "csv_path = Path(\"loantape_raw.csv\")\n",
    "csv_data = pd.read_csv(csv_path, index_col=\"ID\")\n",
    "csv_data.sample(5)"
   ]
  },
  {
   "cell_type": "code",
   "execution_count": 4,
   "metadata": {},
   "outputs": [
    {
     "data": {
      "text/plain": [
       "person_age                      int64\n",
       "person_income                   int64\n",
       "person_home_ownership          object\n",
       "person_emp_length             float64\n",
       "loan_intent                    object\n",
       "loan_grade                     object\n",
       "loan_amnt                       int64\n",
       "loan_int_rate                 float64\n",
       "loan_status                     int64\n",
       "loan_percent_income           float64\n",
       "cb_person_default_on_file      object\n",
       "cb_person_cred_hist_length      int64\n",
       "rem_term                        int64\n",
       "dtype: object"
      ]
     },
     "execution_count": 4,
     "metadata": {},
     "output_type": "execute_result"
    }
   ],
   "source": [
    "# Identify DataFrame Data Types\n",
    "csv_data.dtypes"
   ]
  },
  {
   "cell_type": "code",
   "execution_count": 5,
   "metadata": {},
   "outputs": [
    {
     "data": {
      "text/plain": [
       "person_age                    32581\n",
       "person_income                 32581\n",
       "person_home_ownership         32581\n",
       "person_emp_length             31686\n",
       "loan_intent                   32581\n",
       "loan_grade                    32581\n",
       "loan_amnt                     32581\n",
       "loan_int_rate                 32581\n",
       "loan_status                   32581\n",
       "loan_percent_income           32581\n",
       "cb_person_default_on_file     32581\n",
       "cb_person_cred_hist_length    32581\n",
       "rem_term                      32581\n",
       "dtype: int64"
      ]
     },
     "execution_count": 5,
     "metadata": {},
     "output_type": "execute_result"
    }
   ],
   "source": [
    "# Assess data quality by identifying the number of rows\n",
    "csv_data.count()"
   ]
  },
  {
   "cell_type": "code",
   "execution_count": 6,
   "metadata": {},
   "outputs": [
    {
     "data": {
      "text/plain": [
       "person_age                    0.000\n",
       "person_income                 0.000\n",
       "person_home_ownership         0.000\n",
       "person_emp_length             2.747\n",
       "loan_intent                   0.000\n",
       "loan_grade                    0.000\n",
       "loan_amnt                     0.000\n",
       "loan_int_rate                 0.000\n",
       "loan_status                   0.000\n",
       "loan_percent_income           0.000\n",
       "cb_person_default_on_file     0.000\n",
       "cb_person_cred_hist_length    0.000\n",
       "rem_term                      0.000\n",
       "dtype: float64"
      ]
     },
     "execution_count": 6,
     "metadata": {},
     "output_type": "execute_result"
    }
   ],
   "source": [
    "# Determining percentage of nulls\n",
    "csv_data.isnull().mean() * 100"
   ]
  },
  {
   "cell_type": "code",
   "execution_count": 7,
   "metadata": {},
   "outputs": [
    {
     "data": {
      "text/html": [
       "<div>\n",
       "<style scoped>\n",
       "    .dataframe tbody tr th:only-of-type {\n",
       "        vertical-align: middle;\n",
       "    }\n",
       "\n",
       "    .dataframe tbody tr th {\n",
       "        vertical-align: top;\n",
       "    }\n",
       "\n",
       "    .dataframe thead th {\n",
       "        text-align: right;\n",
       "    }\n",
       "</style>\n",
       "<table border=\"1\" class=\"dataframe\">\n",
       "  <thead>\n",
       "    <tr style=\"text-align: right;\">\n",
       "      <th></th>\n",
       "      <th>person_age</th>\n",
       "      <th>person_income</th>\n",
       "      <th>person_home_ownership</th>\n",
       "      <th>person_emp_length</th>\n",
       "      <th>loan_intent</th>\n",
       "      <th>loan_grade</th>\n",
       "      <th>loan_amnt</th>\n",
       "      <th>loan_int_rate</th>\n",
       "      <th>loan_status</th>\n",
       "      <th>loan_percent_income</th>\n",
       "      <th>cb_person_default_on_file</th>\n",
       "      <th>cb_person_cred_hist_length</th>\n",
       "      <th>rem_term</th>\n",
       "    </tr>\n",
       "    <tr>\n",
       "      <th>ID</th>\n",
       "      <th></th>\n",
       "      <th></th>\n",
       "      <th></th>\n",
       "      <th></th>\n",
       "      <th></th>\n",
       "      <th></th>\n",
       "      <th></th>\n",
       "      <th></th>\n",
       "      <th></th>\n",
       "      <th></th>\n",
       "      <th></th>\n",
       "      <th></th>\n",
       "      <th></th>\n",
       "    </tr>\n",
       "  </thead>\n",
       "  <tbody>\n",
       "    <tr>\n",
       "      <th>1</th>\n",
       "      <td>22</td>\n",
       "      <td>59000</td>\n",
       "      <td>RENT</td>\n",
       "      <td>123.0</td>\n",
       "      <td>PERSONAL</td>\n",
       "      <td>D</td>\n",
       "      <td>35000</td>\n",
       "      <td>16.02</td>\n",
       "      <td>1</td>\n",
       "      <td>0.59</td>\n",
       "      <td>Y</td>\n",
       "      <td>3</td>\n",
       "      <td>60</td>\n",
       "    </tr>\n",
       "    <tr>\n",
       "      <th>2</th>\n",
       "      <td>21</td>\n",
       "      <td>9600</td>\n",
       "      <td>OWN</td>\n",
       "      <td>5.0</td>\n",
       "      <td>EDUCATION</td>\n",
       "      <td>B</td>\n",
       "      <td>1000</td>\n",
       "      <td>11.14</td>\n",
       "      <td>0</td>\n",
       "      <td>0.10</td>\n",
       "      <td>N</td>\n",
       "      <td>2</td>\n",
       "      <td>60</td>\n",
       "    </tr>\n",
       "    <tr>\n",
       "      <th>3</th>\n",
       "      <td>25</td>\n",
       "      <td>9600</td>\n",
       "      <td>MORTGAGE</td>\n",
       "      <td>1.0</td>\n",
       "      <td>MEDICAL</td>\n",
       "      <td>C</td>\n",
       "      <td>5500</td>\n",
       "      <td>12.87</td>\n",
       "      <td>1</td>\n",
       "      <td>0.57</td>\n",
       "      <td>N</td>\n",
       "      <td>3</td>\n",
       "      <td>36</td>\n",
       "    </tr>\n",
       "    <tr>\n",
       "      <th>4</th>\n",
       "      <td>23</td>\n",
       "      <td>65500</td>\n",
       "      <td>RENT</td>\n",
       "      <td>4.0</td>\n",
       "      <td>MEDICAL</td>\n",
       "      <td>C</td>\n",
       "      <td>35000</td>\n",
       "      <td>15.23</td>\n",
       "      <td>1</td>\n",
       "      <td>0.53</td>\n",
       "      <td>N</td>\n",
       "      <td>2</td>\n",
       "      <td>36</td>\n",
       "    </tr>\n",
       "    <tr>\n",
       "      <th>5</th>\n",
       "      <td>24</td>\n",
       "      <td>54400</td>\n",
       "      <td>RENT</td>\n",
       "      <td>8.0</td>\n",
       "      <td>MEDICAL</td>\n",
       "      <td>C</td>\n",
       "      <td>35000</td>\n",
       "      <td>14.27</td>\n",
       "      <td>1</td>\n",
       "      <td>0.55</td>\n",
       "      <td>Y</td>\n",
       "      <td>4</td>\n",
       "      <td>60</td>\n",
       "    </tr>\n",
       "  </tbody>\n",
       "</table>\n",
       "</div>"
      ],
      "text/plain": [
       "    person_age  person_income person_home_ownership  person_emp_length  \\\n",
       "ID                                                                       \n",
       "1           22          59000                  RENT              123.0   \n",
       "2           21           9600                   OWN                5.0   \n",
       "3           25           9600              MORTGAGE                1.0   \n",
       "4           23          65500                  RENT                4.0   \n",
       "5           24          54400                  RENT                8.0   \n",
       "\n",
       "   loan_intent loan_grade  loan_amnt  loan_int_rate  loan_status  \\\n",
       "ID                                                                 \n",
       "1     PERSONAL          D      35000          16.02            1   \n",
       "2    EDUCATION          B       1000          11.14            0   \n",
       "3      MEDICAL          C       5500          12.87            1   \n",
       "4      MEDICAL          C      35000          15.23            1   \n",
       "5      MEDICAL          C      35000          14.27            1   \n",
       "\n",
       "    loan_percent_income cb_person_default_on_file  cb_person_cred_hist_length  \\\n",
       "ID                                                                              \n",
       "1                  0.59                         Y                           3   \n",
       "2                  0.10                         N                           2   \n",
       "3                  0.57                         N                           3   \n",
       "4                  0.53                         N                           2   \n",
       "5                  0.55                         Y                           4   \n",
       "\n",
       "    rem_term  \n",
       "ID            \n",
       "1         60  \n",
       "2         60  \n",
       "3         36  \n",
       "4         36  \n",
       "5         60  "
      ]
     },
     "execution_count": 7,
     "metadata": {},
     "output_type": "execute_result"
    }
   ],
   "source": [
    "# dropna\n",
    "loandata_clean=csv_data.dropna()\n",
    "loandata_clean.head()"
   ]
  },
  {
   "cell_type": "code",
   "execution_count": 8,
   "metadata": {},
   "outputs": [
    {
     "data": {
      "text/plain": [
       "person_age                    0.0\n",
       "person_income                 0.0\n",
       "person_home_ownership         0.0\n",
       "person_emp_length             0.0\n",
       "loan_intent                   0.0\n",
       "loan_grade                    0.0\n",
       "loan_amnt                     0.0\n",
       "loan_int_rate                 0.0\n",
       "loan_status                   0.0\n",
       "loan_percent_income           0.0\n",
       "cb_person_default_on_file     0.0\n",
       "cb_person_cred_hist_length    0.0\n",
       "rem_term                      0.0\n",
       "dtype: float64"
      ]
     },
     "execution_count": 8,
     "metadata": {},
     "output_type": "execute_result"
    }
   ],
   "source": [
    "# Determining percentage of nulls, again\n",
    "loandata_clean.isnull().mean() * 100"
   ]
  },
  {
   "cell_type": "code",
   "execution_count": 9,
   "metadata": {},
   "outputs": [
    {
     "data": {
      "text/plain": [
       "person_age                      int64\n",
       "person_income                   int64\n",
       "person_home_ownership          object\n",
       "person_emp_length             float64\n",
       "loan_intent                    object\n",
       "loan_grade                     object\n",
       "loan_amnt                       int64\n",
       "loan_int_rate                 float64\n",
       "loan_status                     int64\n",
       "loan_percent_income           float64\n",
       "cb_person_default_on_file      object\n",
       "cb_person_cred_hist_length      int64\n",
       "rem_term                        int64\n",
       "dtype: object"
      ]
     },
     "execution_count": 9,
     "metadata": {},
     "output_type": "execute_result"
    }
   ],
   "source": [
    "loandata_clean.dtypes"
   ]
  },
  {
   "cell_type": "code",
   "execution_count": 10,
   "metadata": {},
   "outputs": [],
   "source": [
    "# separate numeric & non-numeric columns\n",
    "cred_num = loandata_clean.select_dtypes(exclude=['object'])\n",
    "cred_nonnum = loandata_clean.select_dtypes(include=['object'])"
   ]
  },
  {
   "cell_type": "code",
   "execution_count": 11,
   "metadata": {},
   "outputs": [],
   "source": [
    "# create dummy variables for non-numeric dtypes\n",
    "cred_nonnum_dum = pd.get_dummies(cred_nonnum)"
   ]
  },
  {
   "cell_type": "code",
   "execution_count": 12,
   "metadata": {},
   "outputs": [
    {
     "data": {
      "text/html": [
       "<div>\n",
       "<style scoped>\n",
       "    .dataframe tbody tr th:only-of-type {\n",
       "        vertical-align: middle;\n",
       "    }\n",
       "\n",
       "    .dataframe tbody tr th {\n",
       "        vertical-align: top;\n",
       "    }\n",
       "\n",
       "    .dataframe thead th {\n",
       "        text-align: right;\n",
       "    }\n",
       "</style>\n",
       "<table border=\"1\" class=\"dataframe\">\n",
       "  <thead>\n",
       "    <tr style=\"text-align: right;\">\n",
       "      <th></th>\n",
       "      <th>person_age</th>\n",
       "      <th>person_income</th>\n",
       "      <th>person_emp_length</th>\n",
       "      <th>loan_amnt</th>\n",
       "      <th>loan_int_rate</th>\n",
       "      <th>loan_status</th>\n",
       "      <th>loan_percent_income</th>\n",
       "      <th>cb_person_cred_hist_length</th>\n",
       "      <th>rem_term</th>\n",
       "      <th>person_home_ownership_MORTGAGE</th>\n",
       "      <th>...</th>\n",
       "      <th>loan_intent_VENTURE</th>\n",
       "      <th>loan_grade_A</th>\n",
       "      <th>loan_grade_B</th>\n",
       "      <th>loan_grade_C</th>\n",
       "      <th>loan_grade_D</th>\n",
       "      <th>loan_grade_E</th>\n",
       "      <th>loan_grade_F</th>\n",
       "      <th>loan_grade_G</th>\n",
       "      <th>cb_person_default_on_file_N</th>\n",
       "      <th>cb_person_default_on_file_Y</th>\n",
       "    </tr>\n",
       "    <tr>\n",
       "      <th>ID</th>\n",
       "      <th></th>\n",
       "      <th></th>\n",
       "      <th></th>\n",
       "      <th></th>\n",
       "      <th></th>\n",
       "      <th></th>\n",
       "      <th></th>\n",
       "      <th></th>\n",
       "      <th></th>\n",
       "      <th></th>\n",
       "      <th></th>\n",
       "      <th></th>\n",
       "      <th></th>\n",
       "      <th></th>\n",
       "      <th></th>\n",
       "      <th></th>\n",
       "      <th></th>\n",
       "      <th></th>\n",
       "      <th></th>\n",
       "      <th></th>\n",
       "      <th></th>\n",
       "    </tr>\n",
       "  </thead>\n",
       "  <tbody>\n",
       "    <tr>\n",
       "      <th>1</th>\n",
       "      <td>22</td>\n",
       "      <td>59000</td>\n",
       "      <td>123.0</td>\n",
       "      <td>35000</td>\n",
       "      <td>16.02</td>\n",
       "      <td>1</td>\n",
       "      <td>0.59</td>\n",
       "      <td>3</td>\n",
       "      <td>60</td>\n",
       "      <td>0</td>\n",
       "      <td>...</td>\n",
       "      <td>0</td>\n",
       "      <td>0</td>\n",
       "      <td>0</td>\n",
       "      <td>0</td>\n",
       "      <td>1</td>\n",
       "      <td>0</td>\n",
       "      <td>0</td>\n",
       "      <td>0</td>\n",
       "      <td>0</td>\n",
       "      <td>1</td>\n",
       "    </tr>\n",
       "    <tr>\n",
       "      <th>2</th>\n",
       "      <td>21</td>\n",
       "      <td>9600</td>\n",
       "      <td>5.0</td>\n",
       "      <td>1000</td>\n",
       "      <td>11.14</td>\n",
       "      <td>0</td>\n",
       "      <td>0.10</td>\n",
       "      <td>2</td>\n",
       "      <td>60</td>\n",
       "      <td>0</td>\n",
       "      <td>...</td>\n",
       "      <td>0</td>\n",
       "      <td>0</td>\n",
       "      <td>1</td>\n",
       "      <td>0</td>\n",
       "      <td>0</td>\n",
       "      <td>0</td>\n",
       "      <td>0</td>\n",
       "      <td>0</td>\n",
       "      <td>1</td>\n",
       "      <td>0</td>\n",
       "    </tr>\n",
       "    <tr>\n",
       "      <th>3</th>\n",
       "      <td>25</td>\n",
       "      <td>9600</td>\n",
       "      <td>1.0</td>\n",
       "      <td>5500</td>\n",
       "      <td>12.87</td>\n",
       "      <td>1</td>\n",
       "      <td>0.57</td>\n",
       "      <td>3</td>\n",
       "      <td>36</td>\n",
       "      <td>1</td>\n",
       "      <td>...</td>\n",
       "      <td>0</td>\n",
       "      <td>0</td>\n",
       "      <td>0</td>\n",
       "      <td>1</td>\n",
       "      <td>0</td>\n",
       "      <td>0</td>\n",
       "      <td>0</td>\n",
       "      <td>0</td>\n",
       "      <td>1</td>\n",
       "      <td>0</td>\n",
       "    </tr>\n",
       "    <tr>\n",
       "      <th>4</th>\n",
       "      <td>23</td>\n",
       "      <td>65500</td>\n",
       "      <td>4.0</td>\n",
       "      <td>35000</td>\n",
       "      <td>15.23</td>\n",
       "      <td>1</td>\n",
       "      <td>0.53</td>\n",
       "      <td>2</td>\n",
       "      <td>36</td>\n",
       "      <td>0</td>\n",
       "      <td>...</td>\n",
       "      <td>0</td>\n",
       "      <td>0</td>\n",
       "      <td>0</td>\n",
       "      <td>1</td>\n",
       "      <td>0</td>\n",
       "      <td>0</td>\n",
       "      <td>0</td>\n",
       "      <td>0</td>\n",
       "      <td>1</td>\n",
       "      <td>0</td>\n",
       "    </tr>\n",
       "    <tr>\n",
       "      <th>5</th>\n",
       "      <td>24</td>\n",
       "      <td>54400</td>\n",
       "      <td>8.0</td>\n",
       "      <td>35000</td>\n",
       "      <td>14.27</td>\n",
       "      <td>1</td>\n",
       "      <td>0.55</td>\n",
       "      <td>4</td>\n",
       "      <td>60</td>\n",
       "      <td>0</td>\n",
       "      <td>...</td>\n",
       "      <td>0</td>\n",
       "      <td>0</td>\n",
       "      <td>0</td>\n",
       "      <td>1</td>\n",
       "      <td>0</td>\n",
       "      <td>0</td>\n",
       "      <td>0</td>\n",
       "      <td>0</td>\n",
       "      <td>0</td>\n",
       "      <td>1</td>\n",
       "    </tr>\n",
       "  </tbody>\n",
       "</table>\n",
       "<p>5 rows × 28 columns</p>\n",
       "</div>"
      ],
      "text/plain": [
       "    person_age  person_income  person_emp_length  loan_amnt  loan_int_rate  \\\n",
       "ID                                                                           \n",
       "1           22          59000              123.0      35000          16.02   \n",
       "2           21           9600                5.0       1000          11.14   \n",
       "3           25           9600                1.0       5500          12.87   \n",
       "4           23          65500                4.0      35000          15.23   \n",
       "5           24          54400                8.0      35000          14.27   \n",
       "\n",
       "    loan_status  loan_percent_income  cb_person_cred_hist_length  rem_term  \\\n",
       "ID                                                                           \n",
       "1             1                 0.59                           3        60   \n",
       "2             0                 0.10                           2        60   \n",
       "3             1                 0.57                           3        36   \n",
       "4             1                 0.53                           2        36   \n",
       "5             1                 0.55                           4        60   \n",
       "\n",
       "    person_home_ownership_MORTGAGE  ...  loan_intent_VENTURE  loan_grade_A  \\\n",
       "ID                                  ...                                      \n",
       "1                                0  ...                    0             0   \n",
       "2                                0  ...                    0             0   \n",
       "3                                1  ...                    0             0   \n",
       "4                                0  ...                    0             0   \n",
       "5                                0  ...                    0             0   \n",
       "\n",
       "    loan_grade_B  loan_grade_C  loan_grade_D  loan_grade_E  loan_grade_F  \\\n",
       "ID                                                                         \n",
       "1              0             0             1             0             0   \n",
       "2              1             0             0             0             0   \n",
       "3              0             1             0             0             0   \n",
       "4              0             1             0             0             0   \n",
       "5              0             1             0             0             0   \n",
       "\n",
       "    loan_grade_G  cb_person_default_on_file_N  cb_person_default_on_file_Y  \n",
       "ID                                                                          \n",
       "1              0                            0                            1  \n",
       "2              0                            1                            0  \n",
       "3              0                            1                            0  \n",
       "4              0                            1                            0  \n",
       "5              0                            0                            1  \n",
       "\n",
       "[5 rows x 28 columns]"
      ]
     },
     "execution_count": 12,
     "metadata": {},
     "output_type": "execute_result"
    }
   ],
   "source": [
    "#concat dataframes\n",
    "loan_data = pd.concat([cred_num,cred_nonnum_dum],axis=1)\n",
    "loan_data.head()"
   ]
  },
  {
   "cell_type": "code",
   "execution_count": 13,
   "metadata": {},
   "outputs": [],
   "source": [
    "# Split the Data into Training and Testing\n",
    "# Create our features\n",
    "X = loan_data.drop(columns=\"loan_status\")\n",
    "\n",
    "# Create our target\n",
    "y = loan_data[\"loan_status\"]"
   ]
  },
  {
   "cell_type": "code",
   "execution_count": 14,
   "metadata": {},
   "outputs": [
    {
     "data": {
      "text/html": [
       "<div>\n",
       "<style scoped>\n",
       "    .dataframe tbody tr th:only-of-type {\n",
       "        vertical-align: middle;\n",
       "    }\n",
       "\n",
       "    .dataframe tbody tr th {\n",
       "        vertical-align: top;\n",
       "    }\n",
       "\n",
       "    .dataframe thead th {\n",
       "        text-align: right;\n",
       "    }\n",
       "</style>\n",
       "<table border=\"1\" class=\"dataframe\">\n",
       "  <thead>\n",
       "    <tr style=\"text-align: right;\">\n",
       "      <th></th>\n",
       "      <th>person_age</th>\n",
       "      <th>person_income</th>\n",
       "      <th>person_emp_length</th>\n",
       "      <th>loan_amnt</th>\n",
       "      <th>loan_int_rate</th>\n",
       "      <th>loan_percent_income</th>\n",
       "      <th>cb_person_cred_hist_length</th>\n",
       "      <th>rem_term</th>\n",
       "      <th>person_home_ownership_MORTGAGE</th>\n",
       "      <th>person_home_ownership_OTHER</th>\n",
       "      <th>...</th>\n",
       "      <th>loan_intent_VENTURE</th>\n",
       "      <th>loan_grade_A</th>\n",
       "      <th>loan_grade_B</th>\n",
       "      <th>loan_grade_C</th>\n",
       "      <th>loan_grade_D</th>\n",
       "      <th>loan_grade_E</th>\n",
       "      <th>loan_grade_F</th>\n",
       "      <th>loan_grade_G</th>\n",
       "      <th>cb_person_default_on_file_N</th>\n",
       "      <th>cb_person_default_on_file_Y</th>\n",
       "    </tr>\n",
       "  </thead>\n",
       "  <tbody>\n",
       "    <tr>\n",
       "      <th>count</th>\n",
       "      <td>31686.000000</td>\n",
       "      <td>3.168600e+04</td>\n",
       "      <td>31686.000000</td>\n",
       "      <td>31686.000000</td>\n",
       "      <td>31686.000000</td>\n",
       "      <td>31686.000000</td>\n",
       "      <td>31686.000000</td>\n",
       "      <td>31686.000000</td>\n",
       "      <td>31686.000000</td>\n",
       "      <td>31686.000000</td>\n",
       "      <td>...</td>\n",
       "      <td>31686.000000</td>\n",
       "      <td>31686.000000</td>\n",
       "      <td>31686.000000</td>\n",
       "      <td>31686.000000</td>\n",
       "      <td>31686.000000</td>\n",
       "      <td>31686.000000</td>\n",
       "      <td>31686.000000</td>\n",
       "      <td>31686.000000</td>\n",
       "      <td>31686.000000</td>\n",
       "      <td>31686.000000</td>\n",
       "    </tr>\n",
       "    <tr>\n",
       "      <th>mean</th>\n",
       "      <td>27.747302</td>\n",
       "      <td>6.669188e+04</td>\n",
       "      <td>4.789686</td>\n",
       "      <td>9661.337815</td>\n",
       "      <td>11.074397</td>\n",
       "      <td>0.169612</td>\n",
       "      <td>5.809316</td>\n",
       "      <td>43.905321</td>\n",
       "      <td>0.413211</td>\n",
       "      <td>0.003377</td>\n",
       "      <td>...</td>\n",
       "      <td>0.175346</td>\n",
       "      <td>0.327305</td>\n",
       "      <td>0.321467</td>\n",
       "      <td>0.199489</td>\n",
       "      <td>0.112226</td>\n",
       "      <td>0.030045</td>\n",
       "      <td>0.007448</td>\n",
       "      <td>0.002020</td>\n",
       "      <td>0.822351</td>\n",
       "      <td>0.177649</td>\n",
       "    </tr>\n",
       "    <tr>\n",
       "      <th>std</th>\n",
       "      <td>6.360283</td>\n",
       "      <td>6.242729e+04</td>\n",
       "      <td>4.142630</td>\n",
       "      <td>6336.226458</td>\n",
       "      <td>3.232059</td>\n",
       "      <td>0.106297</td>\n",
       "      <td>4.060867</td>\n",
       "      <td>11.279965</td>\n",
       "      <td>0.492418</td>\n",
       "      <td>0.058014</td>\n",
       "      <td>...</td>\n",
       "      <td>0.380268</td>\n",
       "      <td>0.469237</td>\n",
       "      <td>0.467047</td>\n",
       "      <td>0.399622</td>\n",
       "      <td>0.315650</td>\n",
       "      <td>0.170713</td>\n",
       "      <td>0.085982</td>\n",
       "      <td>0.044898</td>\n",
       "      <td>0.382223</td>\n",
       "      <td>0.382223</td>\n",
       "    </tr>\n",
       "    <tr>\n",
       "      <th>min</th>\n",
       "      <td>20.000000</td>\n",
       "      <td>4.000000e+03</td>\n",
       "      <td>0.000000</td>\n",
       "      <td>500.000000</td>\n",
       "      <td>5.420000</td>\n",
       "      <td>0.000000</td>\n",
       "      <td>2.000000</td>\n",
       "      <td>36.000000</td>\n",
       "      <td>0.000000</td>\n",
       "      <td>0.000000</td>\n",
       "      <td>...</td>\n",
       "      <td>0.000000</td>\n",
       "      <td>0.000000</td>\n",
       "      <td>0.000000</td>\n",
       "      <td>0.000000</td>\n",
       "      <td>0.000000</td>\n",
       "      <td>0.000000</td>\n",
       "      <td>0.000000</td>\n",
       "      <td>0.000000</td>\n",
       "      <td>0.000000</td>\n",
       "      <td>0.000000</td>\n",
       "    </tr>\n",
       "    <tr>\n",
       "      <th>25%</th>\n",
       "      <td>23.000000</td>\n",
       "      <td>3.939700e+04</td>\n",
       "      <td>2.000000</td>\n",
       "      <td>5000.000000</td>\n",
       "      <td>7.900000</td>\n",
       "      <td>0.090000</td>\n",
       "      <td>3.000000</td>\n",
       "      <td>36.000000</td>\n",
       "      <td>0.000000</td>\n",
       "      <td>0.000000</td>\n",
       "      <td>...</td>\n",
       "      <td>0.000000</td>\n",
       "      <td>0.000000</td>\n",
       "      <td>0.000000</td>\n",
       "      <td>0.000000</td>\n",
       "      <td>0.000000</td>\n",
       "      <td>0.000000</td>\n",
       "      <td>0.000000</td>\n",
       "      <td>0.000000</td>\n",
       "      <td>1.000000</td>\n",
       "      <td>0.000000</td>\n",
       "    </tr>\n",
       "    <tr>\n",
       "      <th>50%</th>\n",
       "      <td>26.000000</td>\n",
       "      <td>5.600000e+04</td>\n",
       "      <td>4.000000</td>\n",
       "      <td>8000.000000</td>\n",
       "      <td>11.030000</td>\n",
       "      <td>0.150000</td>\n",
       "      <td>4.000000</td>\n",
       "      <td>36.000000</td>\n",
       "      <td>0.000000</td>\n",
       "      <td>0.000000</td>\n",
       "      <td>...</td>\n",
       "      <td>0.000000</td>\n",
       "      <td>0.000000</td>\n",
       "      <td>0.000000</td>\n",
       "      <td>0.000000</td>\n",
       "      <td>0.000000</td>\n",
       "      <td>0.000000</td>\n",
       "      <td>0.000000</td>\n",
       "      <td>0.000000</td>\n",
       "      <td>1.000000</td>\n",
       "      <td>0.000000</td>\n",
       "    </tr>\n",
       "    <tr>\n",
       "      <th>75%</th>\n",
       "      <td>30.000000</td>\n",
       "      <td>8.000000e+04</td>\n",
       "      <td>7.000000</td>\n",
       "      <td>12500.000000</td>\n",
       "      <td>13.480000</td>\n",
       "      <td>0.230000</td>\n",
       "      <td>8.000000</td>\n",
       "      <td>60.000000</td>\n",
       "      <td>1.000000</td>\n",
       "      <td>0.000000</td>\n",
       "      <td>...</td>\n",
       "      <td>0.000000</td>\n",
       "      <td>1.000000</td>\n",
       "      <td>1.000000</td>\n",
       "      <td>0.000000</td>\n",
       "      <td>0.000000</td>\n",
       "      <td>0.000000</td>\n",
       "      <td>0.000000</td>\n",
       "      <td>0.000000</td>\n",
       "      <td>1.000000</td>\n",
       "      <td>0.000000</td>\n",
       "    </tr>\n",
       "    <tr>\n",
       "      <th>max</th>\n",
       "      <td>144.000000</td>\n",
       "      <td>6.000000e+06</td>\n",
       "      <td>123.000000</td>\n",
       "      <td>35000.000000</td>\n",
       "      <td>23.220000</td>\n",
       "      <td>0.830000</td>\n",
       "      <td>30.000000</td>\n",
       "      <td>60.000000</td>\n",
       "      <td>1.000000</td>\n",
       "      <td>1.000000</td>\n",
       "      <td>...</td>\n",
       "      <td>1.000000</td>\n",
       "      <td>1.000000</td>\n",
       "      <td>1.000000</td>\n",
       "      <td>1.000000</td>\n",
       "      <td>1.000000</td>\n",
       "      <td>1.000000</td>\n",
       "      <td>1.000000</td>\n",
       "      <td>1.000000</td>\n",
       "      <td>1.000000</td>\n",
       "      <td>1.000000</td>\n",
       "    </tr>\n",
       "  </tbody>\n",
       "</table>\n",
       "<p>8 rows × 27 columns</p>\n",
       "</div>"
      ],
      "text/plain": [
       "         person_age  person_income  person_emp_length     loan_amnt  \\\n",
       "count  31686.000000   3.168600e+04       31686.000000  31686.000000   \n",
       "mean      27.747302   6.669188e+04           4.789686   9661.337815   \n",
       "std        6.360283   6.242729e+04           4.142630   6336.226458   \n",
       "min       20.000000   4.000000e+03           0.000000    500.000000   \n",
       "25%       23.000000   3.939700e+04           2.000000   5000.000000   \n",
       "50%       26.000000   5.600000e+04           4.000000   8000.000000   \n",
       "75%       30.000000   8.000000e+04           7.000000  12500.000000   \n",
       "max      144.000000   6.000000e+06         123.000000  35000.000000   \n",
       "\n",
       "       loan_int_rate  loan_percent_income  cb_person_cred_hist_length  \\\n",
       "count   31686.000000         31686.000000                31686.000000   \n",
       "mean       11.074397             0.169612                    5.809316   \n",
       "std         3.232059             0.106297                    4.060867   \n",
       "min         5.420000             0.000000                    2.000000   \n",
       "25%         7.900000             0.090000                    3.000000   \n",
       "50%        11.030000             0.150000                    4.000000   \n",
       "75%        13.480000             0.230000                    8.000000   \n",
       "max        23.220000             0.830000                   30.000000   \n",
       "\n",
       "           rem_term  person_home_ownership_MORTGAGE  \\\n",
       "count  31686.000000                    31686.000000   \n",
       "mean      43.905321                        0.413211   \n",
       "std       11.279965                        0.492418   \n",
       "min       36.000000                        0.000000   \n",
       "25%       36.000000                        0.000000   \n",
       "50%       36.000000                        0.000000   \n",
       "75%       60.000000                        1.000000   \n",
       "max       60.000000                        1.000000   \n",
       "\n",
       "       person_home_ownership_OTHER  ...  loan_intent_VENTURE  loan_grade_A  \\\n",
       "count                 31686.000000  ...         31686.000000  31686.000000   \n",
       "mean                      0.003377  ...             0.175346      0.327305   \n",
       "std                       0.058014  ...             0.380268      0.469237   \n",
       "min                       0.000000  ...             0.000000      0.000000   \n",
       "25%                       0.000000  ...             0.000000      0.000000   \n",
       "50%                       0.000000  ...             0.000000      0.000000   \n",
       "75%                       0.000000  ...             0.000000      1.000000   \n",
       "max                       1.000000  ...             1.000000      1.000000   \n",
       "\n",
       "       loan_grade_B  loan_grade_C  loan_grade_D  loan_grade_E  loan_grade_F  \\\n",
       "count  31686.000000  31686.000000  31686.000000  31686.000000  31686.000000   \n",
       "mean       0.321467      0.199489      0.112226      0.030045      0.007448   \n",
       "std        0.467047      0.399622      0.315650      0.170713      0.085982   \n",
       "min        0.000000      0.000000      0.000000      0.000000      0.000000   \n",
       "25%        0.000000      0.000000      0.000000      0.000000      0.000000   \n",
       "50%        0.000000      0.000000      0.000000      0.000000      0.000000   \n",
       "75%        1.000000      0.000000      0.000000      0.000000      0.000000   \n",
       "max        1.000000      1.000000      1.000000      1.000000      1.000000   \n",
       "\n",
       "       loan_grade_G  cb_person_default_on_file_N  cb_person_default_on_file_Y  \n",
       "count  31686.000000                 31686.000000                 31686.000000  \n",
       "mean       0.002020                     0.822351                     0.177649  \n",
       "std        0.044898                     0.382223                     0.382223  \n",
       "min        0.000000                     0.000000                     0.000000  \n",
       "25%        0.000000                     1.000000                     0.000000  \n",
       "50%        0.000000                     1.000000                     0.000000  \n",
       "75%        0.000000                     1.000000                     0.000000  \n",
       "max        1.000000                     1.000000                     1.000000  \n",
       "\n",
       "[8 rows x 27 columns]"
      ]
     },
     "execution_count": 14,
     "metadata": {},
     "output_type": "execute_result"
    }
   ],
   "source": [
    "X.describe()"
   ]
  },
  {
   "cell_type": "code",
   "execution_count": 15,
   "metadata": {},
   "outputs": [
    {
     "data": {
      "text/plain": [
       "0    24860\n",
       "1     6826\n",
       "Name: loan_status, dtype: int64"
      ]
     },
     "execution_count": 15,
     "metadata": {},
     "output_type": "execute_result"
    }
   ],
   "source": [
    "# Check the balance of our target values\n",
    "loan_data['loan_status'].value_counts()"
   ]
  },
  {
   "cell_type": "code",
   "execution_count": 16,
   "metadata": {},
   "outputs": [
    {
     "data": {
      "text/plain": [
       "(19011, 27)"
      ]
     },
     "execution_count": 16,
     "metadata": {},
     "output_type": "execute_result"
    }
   ],
   "source": [
    "# Split the X and y into X_train, X_test, y_train, y_test\n",
    "from sklearn.model_selection import train_test_split\n",
    "\n",
    "X_train, X_test, y_train, y_test= train_test_split(X, \n",
    "                                                   y, test_size=.4, \n",
    "                                                   random_state=123, \n",
    "                                                   stratify=y)\n",
    "X_train.shape"
   ]
  },
  {
   "cell_type": "code",
   "execution_count": 17,
   "metadata": {},
   "outputs": [
    {
     "data": {
      "text/plain": [
       "LogisticRegression(C=1.0, class_weight=None, dual=False, fit_intercept=True,\n",
       "                   intercept_scaling=1, l1_ratio=None, max_iter=100,\n",
       "                   multi_class='warn', n_jobs=None, penalty='l2',\n",
       "                   random_state=1, solver='lbfgs', tol=0.0001, verbose=0,\n",
       "                   warm_start=False)"
      ]
     },
     "execution_count": 17,
     "metadata": {},
     "output_type": "execute_result"
    }
   ],
   "source": [
    "classifier = LogisticRegression(solver='lbfgs', random_state=1)\n",
    "classifier"
   ]
  },
  {
   "cell_type": "code",
   "execution_count": 18,
   "metadata": {},
   "outputs": [
    {
     "data": {
      "text/plain": [
       "LogisticRegression(C=1.0, class_weight=None, dual=False, fit_intercept=True,\n",
       "                   intercept_scaling=1, l1_ratio=None, max_iter=100,\n",
       "                   multi_class='warn', n_jobs=None, penalty='l2',\n",
       "                   random_state=1, solver='lbfgs', tol=0.0001, verbose=0,\n",
       "                   warm_start=False)"
      ]
     },
     "execution_count": 18,
     "metadata": {},
     "output_type": "execute_result"
    }
   ],
   "source": [
    "# Train the data\n",
    "classifier.fit(X_train, y_train)"
   ]
  },
  {
   "cell_type": "code",
   "execution_count": 19,
   "metadata": {},
   "outputs": [
    {
     "name": "stdout",
     "output_type": "stream",
     "text": [
      "[[-4.05599820e-02 -3.61818215e-05 -3.76825275e-02  9.93459457e-05\n",
      "   1.89899366e-01  2.42709897e-03  2.96510405e-02 -2.90145693e-02\n",
      "  -1.94082363e-02  4.99775460e-05 -1.26911793e-02  2.63718766e-02\n",
      "   1.04633674e-02 -1.10314057e-02  6.86842181e-03  5.27350200e-03\n",
      "  -5.36154105e-03 -1.18899059e-02 -2.23746625e-02 -2.12023817e-02\n",
      "  -8.83834384e-03  3.25291745e-02  9.91591655e-03  3.01040922e-03\n",
      "   1.28232621e-03 -2.51875712e-02  1.95100097e-02]]\n"
     ]
    }
   ],
   "source": [
    "# Print the coefficients\n",
    "print(classifier.coef_)"
   ]
  },
  {
   "cell_type": "code",
   "execution_count": 20,
   "metadata": {},
   "outputs": [],
   "source": [
    "# Create predictions of probability for loan status using test data\n",
    "pred = classifier.predict_proba(X_test)"
   ]
  },
  {
   "cell_type": "code",
   "execution_count": 21,
   "metadata": {},
   "outputs": [],
   "source": [
    "# Create dataframes of first five predictions, and first five true labels\n",
    "pred_df = pd.DataFrame(pred[:,1][0:5], columns = ['prob_default'])\n",
    "true_df = y_test.head()"
   ]
  },
  {
   "cell_type": "code",
   "execution_count": 22,
   "metadata": {},
   "outputs": [
    {
     "name": "stdout",
     "output_type": "stream",
     "text": [
      "   loan_status  prob_default\n",
      "0            0      0.121289\n",
      "1            1      0.236060\n",
      "2            0      0.192373\n",
      "3            1      0.410643\n",
      "4            0      0.566930\n"
     ]
    }
   ],
   "source": [
    "# Concatenate and print the two data frames for comparison\n",
    "print(pd.concat([true_df.reset_index(drop = True), pred_df], axis = 1))"
   ]
  },
  {
   "cell_type": "code",
   "execution_count": 23,
   "metadata": {},
   "outputs": [
    {
     "name": "stdout",
     "output_type": "stream",
     "text": [
      "Training Data Score: 0.8172636894429541\n",
      "Testing Data Score: 0.8219329388560158\n"
     ]
    }
   ],
   "source": [
    "# Score the model\n",
    "print(f\"Training Data Score: {classifier.score(X_train, y_train)}\")\n",
    "print(f\"Testing Data Score: {classifier.score(X_test, y_test)}\")"
   ]
  },
  {
   "cell_type": "code",
   "execution_count": 24,
   "metadata": {},
   "outputs": [],
   "source": [
    "# Create a dataframe for the probabilities of default\n",
    "pred_df = pd.DataFrame(pred[:,1], columns = ['prob_default'])"
   ]
  },
  {
   "cell_type": "code",
   "execution_count": 25,
   "metadata": {},
   "outputs": [],
   "source": [
    "# Reassign loan status based on the threshold\n",
    "pred_df['loan_status'] = pred_df['prob_default'].apply(lambda x: 1 if x > 0.50 else 0)"
   ]
  },
  {
   "cell_type": "code",
   "execution_count": 26,
   "metadata": {},
   "outputs": [
    {
     "name": "stdout",
     "output_type": "stream",
     "text": [
      "0    11339\n",
      "1     1336\n",
      "Name: loan_status, dtype: int64\n"
     ]
    }
   ],
   "source": [
    "# Print the row counts for each loan status\n",
    "print(pred_df['loan_status'].value_counts())"
   ]
  },
  {
   "cell_type": "code",
   "execution_count": 27,
   "metadata": {},
   "outputs": [
    {
     "name": "stdout",
     "output_type": "stream",
     "text": [
      "              precision    recall  f1-score   support\n",
      "\n",
      " Non-Default       0.84      0.96      0.89      9944\n",
      "     Default       0.68      0.33      0.45      2731\n",
      "\n",
      "    accuracy                           0.82     12675\n",
      "   macro avg       0.76      0.64      0.67     12675\n",
      "weighted avg       0.80      0.82      0.80     12675\n",
      "\n"
     ]
    }
   ],
   "source": [
    "# Print the classification report\n",
    "target_names = ['Non-Default', 'Default']\n",
    "print(classification_report(y_test, pred_df['loan_status'], target_names=target_names))"
   ]
  },
  {
   "cell_type": "code",
   "execution_count": 28,
   "metadata": {},
   "outputs": [
    {
     "data": {
      "text/plain": [
       "prob_default    12675\n",
       "loan_status     12675\n",
       "dtype: int64"
      ]
     },
     "execution_count": 28,
     "metadata": {},
     "output_type": "execute_result"
    }
   ],
   "source": [
    "pred_df.count()"
   ]
  },
  {
   "cell_type": "code",
   "execution_count": 29,
   "metadata": {},
   "outputs": [
    {
     "name": "stdout",
     "output_type": "stream",
     "text": [
      "[[9513  431]\n",
      " [1826  905]]\n"
     ]
    }
   ],
   "source": [
    "# Print the confusion matrix\n",
    "print(confusion_matrix(y_test,pred_df['loan_status']))"
   ]
  },
  {
   "cell_type": "code",
   "execution_count": 30,
   "metadata": {},
   "outputs": [],
   "source": [
    "# Reassign loan status based on the threshold\n",
    "pred_df['loan_status'] = pred_df['prob_default'].apply(lambda x: 1 if x > 0.40 else 0)"
   ]
  },
  {
   "cell_type": "code",
   "execution_count": 31,
   "metadata": {},
   "outputs": [
    {
     "name": "stdout",
     "output_type": "stream",
     "text": [
      "[[8939 1005]\n",
      " [1388 1343]]\n"
     ]
    }
   ],
   "source": [
    "# Print the confusion matrix\n",
    "print(confusion_matrix(y_test,pred_df['loan_status']))"
   ]
  },
  {
   "cell_type": "code",
   "execution_count": 32,
   "metadata": {},
   "outputs": [
    {
     "name": "stdout",
     "output_type": "stream",
     "text": [
      "              precision    recall  f1-score   support\n",
      "\n",
      " Non-Default       0.87      0.90      0.88      9944\n",
      "     Default       0.57      0.49      0.53      2731\n",
      "\n",
      "    accuracy                           0.81     12675\n",
      "   macro avg       0.72      0.70      0.71     12675\n",
      "weighted avg       0.80      0.81      0.81     12675\n",
      "\n"
     ]
    }
   ],
   "source": [
    "# Print the classification report\n",
    "target_names = ['Non-Default', 'Default']\n",
    "print(classification_report(y_test, pred_df['loan_status'], target_names=target_names))"
   ]
  },
  {
   "cell_type": "code",
   "execution_count": 33,
   "metadata": {},
   "outputs": [
    {
     "name": "stdout",
     "output_type": "stream",
     "text": [
      "(array([0.86559504, 0.57197615]), array([0.89893403, 0.49176126]), array([0.88194958, 0.52884426]), array([9944, 2731], dtype=int64))\n"
     ]
    }
   ],
   "source": [
    "# Print all the non-average values from the report\n",
    "print(precision_recall_fscore_support(y_test,pred_df['loan_status']))"
   ]
  },
  {
   "cell_type": "code",
   "execution_count": 34,
   "metadata": {},
   "outputs": [
    {
     "name": "stdout",
     "output_type": "stream",
     "text": [
      "[0.86559504 0.57197615]\n"
     ]
    }
   ],
   "source": [
    "# Print the first two numbers from the report\n",
    "print(precision_recall_fscore_support(y_test,pred_df['loan_status'])[0])"
   ]
  },
  {
   "cell_type": "code",
   "execution_count": 35,
   "metadata": {},
   "outputs": [
    {
     "name": "stdout",
     "output_type": "stream",
     "text": [
      "0.8219329388560158\n"
     ]
    },
    {
     "data": {
      "image/png": "[encoded data removed]",
      "text/plain": [
       "<Figure size 432x288 with 1 Axes>"
      ]
     },
     "metadata": {
      "needs_background": "light"
     },
     "output_type": "display_data"
    }
   ],
   "source": [
    "# Create predictions of probability for loan status using test data\n",
    "pred = classifier.predict_proba(X_test)\n",
    "\n",
    "# Print the accuracy score the model\n",
    "print(classifier.score(X_test, y_test))\n",
    "\n",
    "# Plot the ROC curve of the probabilities of default\n",
    "prob_default = pred[:, 1]\n",
    "fallout, sensitivity, thresholds = roc_curve(y_test, prob_default)\n",
    "plt.plot(fallout, sensitivity, color = 'darkorange')\n",
    "plt.plot([0, 1], [0, 1], linestyle='--')\n",
    "plt.show()\n",
    "\n",
    "# Compute the AUC and store it in a variable\n",
    "auc = roc_auc_score(y_test, prob_default)"
   ]
  },
  {
   "cell_type": "code",
   "execution_count": 36,
   "metadata": {},
   "outputs": [
    {
     "name": "stdout",
     "output_type": "stream",
     "text": [
      "   loan_status  prob_default\n",
      "0            0      0.065829\n",
      "1            1      0.965480\n",
      "2            0      0.117427\n",
      "3            1      0.820973\n",
      "4            0      0.211945\n"
     ]
    }
   ],
   "source": [
    "# start using XGBoost\n",
    "# Train a model\n",
    "import xgboost as xgb\n",
    "clf_gbt = xgb.XGBClassifier().fit(X_train, np.ravel(y_train))\n",
    "\n",
    "# Predict with a model\n",
    "gbt_preds = clf_gbt.predict_proba(X_test)\n",
    "\n",
    "# Create dataframes of first five predictions, and first five true labels\n",
    "preds_df = pd.DataFrame(gbt_preds[:,1][0:5], columns = ['prob_default'])\n",
    "true_df = y_test.head()\n",
    "\n",
    "# Concatenate and print the two data frames for comparison\n",
    "print(pd.concat([true_df.reset_index(drop = True), preds_df], axis = 1))"
   ]
  },
  {
   "cell_type": "code",
   "execution_count": 51,
   "metadata": {},
   "outputs": [
    {
     "data": {
      "text/html": [
       "<div>\n",
       "<style scoped>\n",
       "    .dataframe tbody tr th:only-of-type {\n",
       "        vertical-align: middle;\n",
       "    }\n",
       "\n",
       "    .dataframe tbody tr th {\n",
       "        vertical-align: top;\n",
       "    }\n",
       "\n",
       "    .dataframe thead th {\n",
       "        text-align: right;\n",
       "    }\n",
       "</style>\n",
       "<table border=\"1\" class=\"dataframe\">\n",
       "  <thead>\n",
       "    <tr style=\"text-align: right;\">\n",
       "      <th></th>\n",
       "      <th>prob_default</th>\n",
       "    </tr>\n",
       "  </thead>\n",
       "  <tbody>\n",
       "    <tr>\n",
       "      <th>0</th>\n",
       "      <td>0.065829</td>\n",
       "    </tr>\n",
       "    <tr>\n",
       "      <th>1</th>\n",
       "      <td>0.965480</td>\n",
       "    </tr>\n",
       "    <tr>\n",
       "      <th>2</th>\n",
       "      <td>0.117427</td>\n",
       "    </tr>\n",
       "    <tr>\n",
       "      <th>3</th>\n",
       "      <td>0.820973</td>\n",
       "    </tr>\n",
       "    <tr>\n",
       "      <th>4</th>\n",
       "      <td>0.211945</td>\n",
       "    </tr>\n",
       "  </tbody>\n",
       "</table>\n",
       "</div>"
      ],
      "text/plain": [
       "   prob_default\n",
       "0      0.065829\n",
       "1      0.965480\n",
       "2      0.117427\n",
       "3      0.820973\n",
       "4      0.211945"
      ]
     },
     "execution_count": 51,
     "metadata": {},
     "output_type": "execute_result"
    }
   ],
   "source": [
    "preds_df"
   ]
  },
  {
   "cell_type": "code",
   "execution_count": 38,
   "metadata": {},
   "outputs": [
    {
     "name": "stdout",
     "output_type": "stream",
     "text": [
      "[0 1 0 ... 0 0 0]\n",
      "              precision    recall  f1-score   support\n",
      "\n",
      " Non-Default       0.92      0.99      0.96      9944\n",
      "     Default       0.96      0.70      0.81      2731\n",
      "\n",
      "    accuracy                           0.93     12675\n",
      "   macro avg       0.94      0.85      0.88     12675\n",
      "weighted avg       0.93      0.93      0.92     12675\n",
      "\n"
     ]
    }
   ],
   "source": [
    "# Predict the labels for loan status\n",
    "gbt_preds = clf_gbt.predict(X_test)\n",
    "\n",
    "# Check the values created by the predict method\n",
    "print(gbt_preds)\n",
    "\n",
    "# Print the classification report of the model\n",
    "target_names = ['Non-Default', 'Default']\n",
    "print(classification_report(y_test, gbt_preds, target_names=target_names))"
   ]
  },
  {
   "cell_type": "code",
   "execution_count": null,
   "metadata": {},
   "outputs": [],
   "source": [
    "# higher recall recall for dedault indicates better results for XGBoost comared to logistic regression"
   ]
  },
  {
   "cell_type": "code",
   "execution_count": 39,
   "metadata": {},
   "outputs": [
    {
     "name": "stdout",
     "output_type": "stream",
     "text": [
      "{'loan_percent_income': 81, 'loan_grade_D': 44, 'person_income': 116, 'loan_intent_DEBTCONSOLIDATION': 33, 'person_home_ownership_RENT': 46, 'loan_int_rate': 46, 'person_emp_length': 30, 'loan_grade_E': 37, 'loan_grade_C': 4, 'loan_intent_MEDICAL': 28, 'loan_intent_HOMEIMPROVEMENT': 25, 'person_home_ownership_OWN': 36, 'loan_grade_A': 13, 'loan_grade_B': 7, 'loan_intent_VENTURE': 17, 'loan_grade_F': 17, 'loan_grade_G': 20, 'person_home_ownership_MORTGAGE': 6, 'loan_intent_EDUCATION': 6, 'person_age': 5, 'loan_intent_PERSONAL': 6, 'loan_amnt': 9, 'cb_person_cred_hist_length': 2}\n"
     ]
    }
   ],
   "source": [
    "# assess feature importance\n",
    "# Print the column importances from the model\n",
    "print(clf_gbt.get_booster().get_score(importance_type = 'weight'))"
   ]
  },
  {
   "cell_type": "code",
   "execution_count": 40,
   "metadata": {},
   "outputs": [
    {
     "data": {
      "image/png": "[encoded data removed]",
      "text/plain": [
       "<Figure size 432x288 with 1 Axes>"
      ]
     },
     "metadata": {
      "needs_background": "light"
     },
     "output_type": "display_data"
    }
   ],
   "source": [
    "# Plot the column importance for this model\n",
    "xgb.plot_importance(clf_gbt, importance_type = 'weight')\n",
    "plt.show()"
   ]
  },
  {
   "cell_type": "code",
   "execution_count": 46,
   "metadata": {},
   "outputs": [
    {
     "name": "stdout",
     "output_type": "stream",
     "text": [
      "              precision    recall  f1-score   support\n",
      "\n",
      " Non-Default       0.87      0.90      0.88      9944\n",
      "     Default       0.57      0.49      0.53      2731\n",
      "\n",
      "    accuracy                           0.81     12675\n",
      "   macro avg       0.72      0.70      0.71     12675\n",
      "weighted avg       0.80      0.81      0.81     12675\n",
      "\n",
      "              precision    recall  f1-score   support\n",
      "\n",
      " Non-Default       0.92      0.99      0.96      9944\n",
      "     Default       0.96      0.70      0.81      2731\n",
      "\n",
      "    accuracy                           0.93     12675\n",
      "   macro avg       0.94      0.85      0.88     12675\n",
      "weighted avg       0.93      0.93      0.92     12675\n",
      "\n"
     ]
    }
   ],
   "source": [
    "# models evaluation\n",
    "# Print the logistic regression classification report\n",
    "target_names = ['Non-Default', 'Default']\n",
    "print(classification_report(y_test, pred_df['loan_status'], target_names=target_names))\n",
    "# Print the gradient boosted tree classification report\n",
    "print(classification_report(y_test, gbt_preds, target_names=target_names))\n",
    "\n"
   ]
  },
  {
   "cell_type": "code",
   "execution_count": 47,
   "metadata": {},
   "outputs": [
    {
     "name": "stdout",
     "output_type": "stream",
     "text": [
      "0.7053969219147882\n",
      "0.8831847877767947\n"
     ]
    }
   ],
   "source": [
    "# Print the default F-1 scores for the logistic regression\n",
    "print(precision_recall_fscore_support(y_test,pred_df['loan_status'], average = 'macro')[2])\n",
    "\n",
    "# Print the default F-1 scores for the gradient boosted tree\n",
    "print(precision_recall_fscore_support(y_test,gbt_preds, average = 'macro')[2])"
   ]
  },
  {
   "cell_type": "code",
   "execution_count": null,
   "metadata": {},
   "outputs": [],
   "source": [
    "# gradient booster appears to be more accurate"
   ]
  },
  {
   "cell_type": "code",
   "execution_count": null,
   "metadata": {},
   "outputs": [],
   "source": [
    "# ROC chart components\n",
    "#fallout_lr, sensitivity_lr, thresholds_lr = roc_curve(y_test, clf_logistic_preds)\n",
    "#fallout_gbt, sensitivity_gbt, thresholds_gbt = roc_curve(y_test, clf_gbt_preds)\n",
    "\n",
    "# ROC Chart with both\n",
    "#plt.plot(fallout_lr, sensitivity_lr, color = 'blue', label='%s' % 'Logistic Regression')\n",
    "#plt.plot(fallout_gbt, sensitivity_gbt, color = 'green', label='%s' % 'GBT')\n",
    "#plt.plot([0, 1], [0, 1], linestyle='--', label='%s' % 'Random Prediction')\n",
    "#plt.title(\"ROC Chart for LR and GBT on the Probability of Default\")\n",
    "#plt.xlabel('Fall-out')\n",
    "#plt.ylabel('Sensitivity')\n",
    "#plt.legend()\n",
    "#plt.show()\n"
   ]
  },
  {
   "cell_type": "code",
   "execution_count": null,
   "metadata": {},
   "outputs": [],
   "source": []
  }
 ],
 "metadata": {
  "kernelspec": {
   "display_name": "Python 3",
   "language": "python",
   "name": "python3"
  },
  "language_info": {
   "codemirror_mode": {
    "name": "ipython",
    "version": 3
   },
   "file_extension": ".py",
   "mimetype": "text/x-python",
   "name": "python",
   "nbconvert_exporter": "python",
   "pygments_lexer": "ipython3",
   "version": "3.7.3"
  }
 },
 "nbformat": 4,
 "nbformat_minor": 4
}
